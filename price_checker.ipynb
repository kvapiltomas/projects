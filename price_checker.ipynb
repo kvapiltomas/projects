{
  "nbformat": 4,
  "nbformat_minor": 0,
  "metadata": {
    "colab": {
      "name": "price_checker.ipynb",
      "provenance": [],
      "collapsed_sections": [],
      "include_colab_link": true
    },
    "kernelspec": {
      "name": "python3",
      "display_name": "Python 3"
    }
  },
  "cells": [
    {
      "cell_type": "markdown",
      "metadata": {
        "id": "view-in-github",
        "colab_type": "text"
      },
      "source": [
        "<a href=\"https://colab.research.google.com/github/kvapiltomas/projects/blob/master/price_checker.ipynb\" target=\"_parent\"><img src=\"https://colab.research.google.com/assets/colab-badge.svg\" alt=\"Open In Colab\"/></a>"
      ]
    },
    {
      "cell_type": "code",
      "metadata": {
        "id": "QNulGSXrni3d",
        "colab_type": "code",
        "outputId": "050d04f7-a8cd-480d-f561-80364acdaee9",
        "colab": {
          "base_uri": "https://localhost:8080/",
          "height": 136
        }
      },
      "source": [
        "import requests\n",
        "from bs4 import BeautifulSoup\n",
        "import smtplib\n",
        "\n",
        "link = \"https://roboticke-vysavace.heureka.cz/xiaomi-mi-robot-vacuum/\"\n",
        "link_tv = \"https://televize.heureka.cz/sony-bravia-kd-55xf7596/?gclid=CjwKCAiA3uDwBRBFEiwA1VsajIpE9DgmF8Meppz9WIdZhLF7rCRghJ6cQ-6duSAJhpbD2nzQdUWyuhoCzwkQAvD_BwE\"\n",
        "links = [link_robot, link_tv]\n",
        "\n",
        "headers = {\"User-Agent\":\"Mozilla/5.0 (Windows NT 10.0; Win64; x64) AppleWebKit/537.36 (KHTML, like Gecko) Chrome/78.0.3904.97 Safari/537.36\"}\n",
        "\n",
        "def check_price():\n",
        "  \n",
        "    my_price = 8000\n",
        "\n",
        "    create_product_list(8000,'vacuum cleaner', 'Xiaomi Mi Robot', ['SONY TV'])\n",
        "\n",
        "    for link in links:\n",
        "        web = requests.get(link, headers= headers)\n",
        "\n",
        "        if web:\n",
        "            print(\"successfully found product\\n\")\n",
        "        else:\n",
        "            print(\"error\")\n",
        "\n",
        "        bs = BeautifulSoup(web.content, \"html.parser\")\n",
        "\n",
        "        #print(bs.prettify())\n",
        "\n",
        "        name= bs.find('h1', {'itemprop': 'name'}).get_text()\n",
        "        price = bs.find('span', {'itemprop':'price'}).get_text()\n",
        "        sep = 'Kč'\n",
        "        price_f = price.replace(\" \",\"\").split(sep, 1)[0]\n",
        "\n",
        "        \n",
        "\n",
        "        if int(price_f) < my_price:\n",
        "            send_email(price_f)\n",
        "        elif int(price_f) == my_price:\n",
        "            print(\"Price have reached your target price\")\n",
        "        else:\n",
        "            print(\"Be patient\")\n",
        "\n",
        "\n",
        "def send_email(price_f):\n",
        "        server = smtplib.SMTP('smtp.gmail.com', 587)\n",
        "        server.ehlo()\n",
        "        server.starttls()\n",
        "        server.ehlo()\n",
        "        \n",
        "        user = 'thomik99@gmail.com'\n",
        "        passw = 'mcxfxqxgmtrqgggs'\n",
        "\n",
        "        server.login(user, passw)\n",
        "        \n",
        "        subject = 'Price dropped below you target'\n",
        "        body = f'Price is {price_f} Kc. You can check it here: {link} .'\n",
        "        msg = f'Subject: {subject}\\n\\n{body}'\n",
        "      \n",
        "        server.sendmail(\n",
        "            from_addr = 'HLIDAC 2.0'\n",
        "            ,to_addrs = 'kvapta@seznam.cz'\n",
        "            ,msg = msg\n",
        "        )\n",
        "        print('email has been sent')\n",
        "        \n",
        "        server.quit()\n",
        "\n",
        "def create_product_list(price: str, product_type, product_name: str, product_list: None, category: str = 'NeedToBuy'):\n",
        "    if not product_list:\n",
        "      product_list= []\n",
        "\n",
        "    product_list.append(product_name)\n",
        "\n",
        "    return {\n",
        "        'category': category,\n",
        "        'product_name': product_name,\n",
        "        'product_list': product_list\n",
        "            }\n",
        "product1 = create_product_list(8000, 'vacuum cleaner', 'Xiaomi Mi Robot', ['SONY TV'])\n",
        "\n",
        "print(product1)\n",
        "\n",
        "check_price()"
      ],
      "execution_count": 0,
      "outputs": [
        {
          "output_type": "stream",
          "text": [
            "{'category': 'NeedToBuy', 'product_name': 'Xiaomi Mi Robot', 'product_list': ['SONY TV', 'Xiaomi Mi Robot']}\n",
            "successfully found product\n",
            "\n",
            "email has been sent\n",
            "successfully found product\n",
            "\n",
            "Be patient\n"
          ],
          "name": "stdout"
        }
      ]
    },
    {
      "cell_type": "code",
      "metadata": {
        "id": "4WHC_3bLtWJa",
        "colab_type": "code",
        "outputId": "404ccb16-f99d-4b09-ffdb-0658b3c7481a",
        "colab": {
          "base_uri": "https://localhost:8080/",
          "height": 129
        }
      },
      "source": [
        "import requests\n",
        "ENDPOINT = \"http://gw.kbcloud.cz/sandbox/exchange-rates/v1\"\n",
        "response = requests.get(f\"{ENDPOINT}\")\n",
        "return response.json()\n",
        "\n",
        "\n"
      ],
      "execution_count": 0,
      "outputs": [
        {
          "output_type": "error",
          "ename": "SyntaxError",
          "evalue": "ignored",
          "traceback": [
            "\u001b[0;36m  File \u001b[0;32m\"<ipython-input-19-afc5341894d0>\"\u001b[0;36m, line \u001b[0;32m4\u001b[0m\n\u001b[0;31m    return response.json()\u001b[0m\n\u001b[0m                          ^\u001b[0m\n\u001b[0;31mSyntaxError\u001b[0m\u001b[0;31m:\u001b[0m 'return' outside function\n"
          ]
        }
      ]
    },
    {
      "cell_type": "code",
      "metadata": {
        "id": "RwG6X0Ka2w6W",
        "colab_type": "code",
        "outputId": "90e4acb6-e6b9-4ec6-c841-925aeee09e25",
        "colab": {
          "base_uri": "https://localhost:8080/",
          "height": 231
        }
      },
      "source": [
        "def create_product_list(cena: str,  product_name: str, product_list: None):\n",
        "      if not product_list:\n",
        "        product_list= []\n",
        "\n",
        "      product_list.append(product_name)\n",
        "\n",
        "      return {\n",
        "          'category': category,\n",
        "          'product_name': product_name,\n",
        "          'product_list': product_list\n",
        "              }\n",
        "product1 = create_product_list('8000','vacuum cleaner', 'Xiaomi Mi Robot', ['SONY TV'])\n",
        "product2 = create_product_list(3000,'fridge', 'AEG',[])\n",
        "product3 = create_product_list(4000,'tv', 'Sony',[])\n",
        "\n",
        "print(product1)\n",
        "\n"
      ],
      "execution_count": 0,
      "outputs": [
        {
          "output_type": "error",
          "ename": "TypeError",
          "evalue": "ignored",
          "traceback": [
            "\u001b[0;31m---------------------------------------------------------------------------\u001b[0m",
            "\u001b[0;31mTypeError\u001b[0m                                 Traceback (most recent call last)",
            "\u001b[0;32m<ipython-input-80-a184cbdea836>\u001b[0m in \u001b[0;36m<module>\u001b[0;34m()\u001b[0m\n\u001b[1;32m     10\u001b[0m           \u001b[0;34m'product_list'\u001b[0m\u001b[0;34m:\u001b[0m \u001b[0mproduct_list\u001b[0m\u001b[0;34m\u001b[0m\u001b[0;34m\u001b[0m\u001b[0m\n\u001b[1;32m     11\u001b[0m               }\n\u001b[0;32m---> 12\u001b[0;31m \u001b[0mproduct1\u001b[0m \u001b[0;34m=\u001b[0m \u001b[0mcreate_product_list\u001b[0m\u001b[0;34m(\u001b[0m\u001b[0;34m'8000'\u001b[0m\u001b[0;34m,\u001b[0m\u001b[0;34m'vacuum cleaner'\u001b[0m\u001b[0;34m,\u001b[0m \u001b[0;34m'Xiaomi Mi Robot'\u001b[0m\u001b[0;34m,\u001b[0m \u001b[0;34m[\u001b[0m\u001b[0;34m'SONY TV'\u001b[0m\u001b[0;34m]\u001b[0m\u001b[0;34m)\u001b[0m\u001b[0;34m\u001b[0m\u001b[0;34m\u001b[0m\u001b[0m\n\u001b[0m\u001b[1;32m     13\u001b[0m \u001b[0mproduct2\u001b[0m \u001b[0;34m=\u001b[0m \u001b[0mcreate_product_list\u001b[0m\u001b[0;34m(\u001b[0m\u001b[0;36m3000\u001b[0m\u001b[0;34m,\u001b[0m\u001b[0;34m'fridge'\u001b[0m\u001b[0;34m,\u001b[0m \u001b[0;34m'AEG'\u001b[0m\u001b[0;34m,\u001b[0m\u001b[0;34m[\u001b[0m\u001b[0;34m]\u001b[0m\u001b[0;34m)\u001b[0m\u001b[0;34m\u001b[0m\u001b[0;34m\u001b[0m\u001b[0m\n\u001b[1;32m     14\u001b[0m \u001b[0mproduct3\u001b[0m \u001b[0;34m=\u001b[0m \u001b[0mcreate_product_list\u001b[0m\u001b[0;34m(\u001b[0m\u001b[0;36m4000\u001b[0m\u001b[0;34m,\u001b[0m\u001b[0;34m'tv'\u001b[0m\u001b[0;34m,\u001b[0m \u001b[0;34m'Sony'\u001b[0m\u001b[0;34m,\u001b[0m\u001b[0;34m[\u001b[0m\u001b[0;34m]\u001b[0m\u001b[0;34m)\u001b[0m\u001b[0;34m\u001b[0m\u001b[0;34m\u001b[0m\u001b[0m\n",
            "\u001b[0;31mTypeError\u001b[0m: create_product_list() takes 3 positional arguments but 4 were given"
          ]
        }
      ]
    },
    {
      "cell_type": "code",
      "metadata": {
        "id": "k63umvYq8_Sk",
        "colab_type": "code",
        "outputId": "4e27ac1b-ef5d-481e-ded1-48be2d928b56",
        "colab": {
          "base_uri": "https://localhost:8080/",
          "height": 54
        }
      },
      "source": [
        "def create_product_list(category: str,  product_name: str, product_list = []):\n",
        "\n",
        "    product_list.append(product_name)\n",
        "\n",
        "    return {\n",
        "        'category': category,\n",
        "        'product_name': product_name,\n",
        "        'product_list': product_list\n",
        "            }\n",
        "product1 = create_product_list('vacuum cleaner', 'Xiaomi Mi Robot')\n",
        "product2 = create_product_list('fridge', 'AEG')\n",
        "product3 = create_product_list('tv', 'Sony')\n",
        "\n",
        "print(product1)\n"
      ],
      "execution_count": 0,
      "outputs": [
        {
          "output_type": "stream",
          "text": [
            "[{'category': 'vacuum cleaner', 'product_name': 'Xiaomi Mi Robot', 'product_list': ['Xiaomi Mi Robot', 'AEG', 'Sony']}, {'category': 'fridge', 'product_name': 'AEG', 'product_list': ['Xiaomi Mi Robot', 'AEG', 'Sony']}, {'category': 'tv', 'product_name': 'Sony', 'product_list': ['Xiaomi Mi Robot', 'AEG', 'Sony']}]\n"
          ],
          "name": "stdout"
        }
      ]
    },
    {
      "cell_type": "code",
      "metadata": {
        "id": "p9RNsRLm_MLQ",
        "colab_type": "code",
        "outputId": "a989a624-df04-48ac-fb25-ddc69a6eab3f",
        "colab": {
          "base_uri": "https://localhost:8080/",
          "height": 316
        }
      },
      "source": [
        "import requests\n",
        "from bs4 import BeautifulSoup\n",
        "import smtplib\n",
        "\n",
        "link_robot = \"https://roboticke-vysavace.heureka.cz/xiaomi-mi-robot-vacuum/\"\n",
        "link_tv = \"https://televize.heureka.cz/sony-bravia-kd-55xf7596/?gclid=CjwKCAiA3uDwBRBFEiwA1VsajIpE9DgmF8Meppz9WIdZhLF7rCRghJ6cQ-6duSAJhpbD2nzQdUWyuhoCzwkQAvD_BwE\"\n",
        "links = [link_robot, link_tv]\n",
        "my_price = 8000\n",
        "my_price_robot = 7000\n",
        "\n",
        "headers = {\"User-Agent\":\"Mozilla/5.0 (Windows NT 10.0; Win64; x64) AppleWebKit/537.36 (KHTML, like Gecko) Chrome/78.0.3904.97 Safari/537.36\"}\n",
        "\n",
        "products = {}\n",
        "class Product:\n",
        "    def __init__(self, product_name, product_price):\n",
        "        self.name = product_name\n",
        "        self.price = product_price\n",
        "\n",
        "    def get_details(self):\n",
        "        for link in links:\n",
        "            web = requests.get(link, headers= headers)\n",
        "\n",
        "            if web:\n",
        "                print(\"successfully connected\\n\")\n",
        "            else:\n",
        "                print(\"error\")\n",
        "\n",
        "            bs = BeautifulSoup(web.content, \"html.parser\")\n",
        "\n",
        "            #print(bs.prettify())\n",
        "\n",
        "            name= bs.find('h1', {'itemprop': 'name'}).get_text()\n",
        "            price = bs.find('span', {'itemprop':'price'}).get_text()\n",
        "            sep = 'Kč'\n",
        "            price_f = price.replace(\" \",\"\").split(sep, 1)[0]\n",
        "            products.update(name, price_f)\n",
        "            #create_product_list('Electronics', name, ['SONY TV'])\n",
        "            print(products)\n",
        "            #print(product1)\n",
        "\n",
        "        #if int(price_f) < my_price:\n",
        "        #    send_email(price_f)\n",
        "       # elif int(price_f) == my_price:\n",
        "        #    print(\"Price have reached your target price\")\n",
        "        #else:\n",
        "       #     print(\"Be patient\")\n",
        "\n",
        "\n",
        "    def send_email(price_f):\n",
        "            server = smtplib.SMTP('smtp.gmail.com', 587)\n",
        "            server.ehlo()\n",
        "            server.starttls()\n",
        "            server.ehlo()\n",
        "            \n",
        "            user = 'thomik99@gmail.com'\n",
        "            passw = 'mcxfxqxgmtrqgggs'\n",
        "\n",
        "            server.login(user, passw)\n",
        "            \n",
        "            subject = 'Price dropped below you target'\n",
        "            body = f'Price is {price_f} Kc. You can check it here: {link} .'\n",
        "            msg = f'Subject: {subject}\\n\\n{body}'\n",
        "          \n",
        "            server.sendmail(\n",
        "                from_addr = 'HLIDAC 2.0'\n",
        "                ,to_addrs = 'kvapta@seznam.cz'\n",
        "                ,msg = msg\n",
        "            )\n",
        "            print('email has been sent')\n",
        "            \n",
        "            server.quit()\n",
        "\n",
        "    def create_product_list(product_type: str,  name, product_list: None,  category: str = 'NeedToBuy'):\n",
        "          if not product_list:\n",
        "              product_list= []\n",
        "\n",
        "          product_list.append(name)\n",
        "\n",
        "          print(product1)\n",
        "\n",
        "          return {\n",
        "              'category': category,\n",
        "              'product_name': name,\n",
        "              'product_list': product_list\n",
        "                  }\n",
        "        \n",
        "\n",
        "    check_price()"
      ],
      "execution_count": 0,
      "outputs": [
        {
          "output_type": "error",
          "ename": "NameError",
          "evalue": "ignored",
          "traceback": [
            "\u001b[0;31m---------------------------------------------------------------------------\u001b[0m",
            "\u001b[0;31mNameError\u001b[0m                                 Traceback (most recent call last)",
            "\u001b[0;32m<ipython-input-2-67697e881ada>\u001b[0m in \u001b[0;36m<module>\u001b[0;34m()\u001b[0m\n\u001b[1;32m     12\u001b[0m \u001b[0;34m\u001b[0m\u001b[0m\n\u001b[1;32m     13\u001b[0m \u001b[0mproducts\u001b[0m \u001b[0;34m=\u001b[0m \u001b[0;34m{\u001b[0m\u001b[0;34m}\u001b[0m\u001b[0;34m\u001b[0m\u001b[0;34m\u001b[0m\u001b[0m\n\u001b[0;32m---> 14\u001b[0;31m \u001b[0;32mclass\u001b[0m \u001b[0mProduct\u001b[0m\u001b[0;34m:\u001b[0m\u001b[0;34m\u001b[0m\u001b[0;34m\u001b[0m\u001b[0m\n\u001b[0m\u001b[1;32m     15\u001b[0m     \u001b[0;32mdef\u001b[0m \u001b[0m__init__\u001b[0m\u001b[0;34m(\u001b[0m\u001b[0mself\u001b[0m\u001b[0;34m,\u001b[0m \u001b[0mproduct_name\u001b[0m\u001b[0;34m,\u001b[0m \u001b[0mproduct_price\u001b[0m\u001b[0;34m)\u001b[0m\u001b[0;34m:\u001b[0m\u001b[0;34m\u001b[0m\u001b[0;34m\u001b[0m\u001b[0m\n\u001b[1;32m     16\u001b[0m         \u001b[0mself\u001b[0m\u001b[0;34m.\u001b[0m\u001b[0mname\u001b[0m \u001b[0;34m=\u001b[0m \u001b[0mproduct_name\u001b[0m\u001b[0;34m\u001b[0m\u001b[0;34m\u001b[0m\u001b[0m\n",
            "\u001b[0;32m<ipython-input-2-67697e881ada>\u001b[0m in \u001b[0;36mProduct\u001b[0;34m()\u001b[0m\n\u001b[1;32m     86\u001b[0m \u001b[0;34m\u001b[0m\u001b[0m\n\u001b[1;32m     87\u001b[0m \u001b[0;34m\u001b[0m\u001b[0m\n\u001b[0;32m---> 88\u001b[0;31m     \u001b[0mcheck_price\u001b[0m\u001b[0;34m(\u001b[0m\u001b[0;34m)\u001b[0m\u001b[0;34m\u001b[0m\u001b[0;34m\u001b[0m\u001b[0m\n\u001b[0m",
            "\u001b[0;31mNameError\u001b[0m: name 'check_price' is not defined"
          ]
        }
      ]
    },
    {
      "cell_type": "code",
      "metadata": {
        "id": "PQOaX4F7VUXK",
        "colab_type": "code",
        "outputId": "bada6eca-f24b-4c9d-f923-262213713705",
        "colab": {
          "base_uri": "https://localhost:8080/",
          "height": 564
        }
      },
      "source": [
        "import requests\n",
        "from bs4 import BeautifulSoup\n",
        "import smtplib\n",
        "import json\n",
        "\n",
        "link_robot = \"https://roboticke-vysavace.heureka.cz/xiaomi-mi-robot-vacuum/\"\n",
        "link_tv = \"https://televize.heureka.cz/sony-bravia-kd-55xf7596/?gclid=CjwKCAiA3uDwBRBFEiwA1VsajIpE9DgmF8Meppz9WIdZhLF7rCRghJ6cQ-6duSAJhpbD2nzQdUWyuhoCzwkQAvD_BwE\"\n",
        "links = [link_robot, link_tv]\n",
        "my_price = 8000\n",
        "my_price_robot = 7000\n",
        "\n",
        "headers = {\"User-Agent\":\"Mozilla/5.0 (Windows NT 10.0; Win64; x64) AppleWebKit/537.36 (KHTML, like Gecko) Chrome/78.0.3904.97 Safari/537.36\"}\n",
        "\n",
        "\n",
        "class Product:\n",
        "      def __init__(self, product_name, price_f):\n",
        "          self.name = product_name\n",
        "          self.price = price_f\n",
        "          self.user_price = []\n",
        "          \n",
        "      def print(self):\n",
        "          print(self.name)\n",
        "          print(self.price)\n",
        "\n",
        "      def price_check(self):\n",
        "          print('Product ' + self.name + ' currently costs ' + self.price)\n",
        "\n",
        "      def comparison(self):\n",
        "          if int(self.price) < my_price:\n",
        "              send_email(self.price)\n",
        "          elif int(self.price) == my_price:\n",
        "              print(\"Price of\" + self.name + \"have reached your target price\")\n",
        "          else:\n",
        "              print(\"Be patient\")\n",
        "\n",
        "\n",
        "def connect():\n",
        "    for link in links:\n",
        "        web = requests.get(link, headers= headers)\n",
        "\n",
        "        if web:\n",
        "            print(\"successfully connected to: \\n\" + link + '\\n')\n",
        "            get_details(web)\n",
        "        else:\n",
        "            print('connection to' + link + 'failed\\n')\n",
        "            \n",
        "\n",
        "def get_input():\n",
        "    global my_price\n",
        "    print('Enter q to quit the application')\n",
        "        \n",
        "    while True:\n",
        "        product = input('Please select product - Robot / TV: \\n ')\n",
        "        if product == 'q':\n",
        "              break\n",
        "        elif product.lower() == 'tv':\n",
        "              price = input('Please tell us your price: \\n ')\n",
        "              if price == 'q':\n",
        "                  break\n",
        "              else:\n",
        "                  my_price = int(price)\n",
        "        else:\n",
        "              print('Please enter Robot or TV')\n",
        "\n",
        "    \n",
        "def get_details(web):        \n",
        "        bs = BeautifulSoup(web.content, \"html.parser\")\n",
        "\n",
        "            #print(bs.prettify())\n",
        "\n",
        "        product_name = bs.find('h1', {'itemprop': 'name'}).get_text()\n",
        "        product_price = bs.find('span', {'itemprop':'price'}).get_text()\n",
        "        sep = 'Kč'\n",
        "        price_f = product_price.replace(\" \",\"\").split(sep, 1)[0]\n",
        "        #print(product_name, product_price)\n",
        "        \n",
        "        my_product = Product(product_name, price_f)    \n",
        "        print(my_product.price_check())\n",
        "        print(my_product.comparison())\n",
        "        #product_name[product_name] = product_name\n",
        "        #product_name[product_price] = product_price\n",
        "        # print(product_name)\n",
        "        #print(Product.product_price)\n",
        "\n",
        "\n",
        "def send_email(price_f):\n",
        "            server = smtplib.SMTP('smtp.gmail.com', 587)\n",
        "            server.ehlo()\n",
        "            server.starttls()\n",
        "            server.ehlo()\n",
        "            \n",
        "            user = 'thomik99@gmail.com'\n",
        "            passw = 'mcxfxqxgmtrqgggs'\n",
        "\n",
        "            server.login(user, passw)\n",
        "            \n",
        "            subject = 'Price dropped below you target'\n",
        "            body = f'Price is {price_f} Kc. You can check it here: .'\n",
        "            msg = f'Subject: {subject}\\n\\n{body}'\n",
        "          \n",
        "            server.sendmail(\n",
        "                from_addr = 'HLIDAC 2.0'\n",
        "                ,to_addrs = 'kvapta@seznam.cz'\n",
        "                ,msg = msg\n",
        "            )\n",
        "            print('email has been sent')\n",
        "            \n",
        "            server.quit()\n",
        "\n",
        "#product1= Product(product_name, product_price)\n",
        "#print(product1.get_details())\n",
        "get_input()\n",
        "\n",
        "connect()\n",
        "#product = Product()"
      ],
      "execution_count": 0,
      "outputs": [
        {
          "output_type": "stream",
          "text": [
            "Enter q to quit the application\n"
          ],
          "name": "stdout"
        },
        {
          "output_type": "error",
          "ename": "KeyboardInterrupt",
          "evalue": "ignored",
          "traceback": [
            "\u001b[0;31m---------------------------------------------------------------------------\u001b[0m",
            "\u001b[0;31mKeyboardInterrupt\u001b[0m                         Traceback (most recent call last)",
            "\u001b[0;32m/usr/local/lib/python3.6/dist-packages/ipykernel/kernelbase.py\u001b[0m in \u001b[0;36m_input_request\u001b[0;34m(self, prompt, ident, parent, password)\u001b[0m\n\u001b[1;32m    729\u001b[0m             \u001b[0;32mtry\u001b[0m\u001b[0;34m:\u001b[0m\u001b[0;34m\u001b[0m\u001b[0;34m\u001b[0m\u001b[0m\n\u001b[0;32m--> 730\u001b[0;31m                 \u001b[0mident\u001b[0m\u001b[0;34m,\u001b[0m \u001b[0mreply\u001b[0m \u001b[0;34m=\u001b[0m \u001b[0mself\u001b[0m\u001b[0;34m.\u001b[0m\u001b[0msession\u001b[0m\u001b[0;34m.\u001b[0m\u001b[0mrecv\u001b[0m\u001b[0;34m(\u001b[0m\u001b[0mself\u001b[0m\u001b[0;34m.\u001b[0m\u001b[0mstdin_socket\u001b[0m\u001b[0;34m,\u001b[0m \u001b[0;36m0\u001b[0m\u001b[0;34m)\u001b[0m\u001b[0;34m\u001b[0m\u001b[0;34m\u001b[0m\u001b[0m\n\u001b[0m\u001b[1;32m    731\u001b[0m             \u001b[0;32mexcept\u001b[0m \u001b[0mException\u001b[0m\u001b[0;34m:\u001b[0m\u001b[0;34m\u001b[0m\u001b[0;34m\u001b[0m\u001b[0m\n",
            "\u001b[0;32m/usr/local/lib/python3.6/dist-packages/jupyter_client/session.py\u001b[0m in \u001b[0;36mrecv\u001b[0;34m(self, socket, mode, content, copy)\u001b[0m\n\u001b[1;32m    802\u001b[0m         \u001b[0;32mtry\u001b[0m\u001b[0;34m:\u001b[0m\u001b[0;34m\u001b[0m\u001b[0;34m\u001b[0m\u001b[0m\n\u001b[0;32m--> 803\u001b[0;31m             \u001b[0mmsg_list\u001b[0m \u001b[0;34m=\u001b[0m \u001b[0msocket\u001b[0m\u001b[0;34m.\u001b[0m\u001b[0mrecv_multipart\u001b[0m\u001b[0;34m(\u001b[0m\u001b[0mmode\u001b[0m\u001b[0;34m,\u001b[0m \u001b[0mcopy\u001b[0m\u001b[0;34m=\u001b[0m\u001b[0mcopy\u001b[0m\u001b[0;34m)\u001b[0m\u001b[0;34m\u001b[0m\u001b[0;34m\u001b[0m\u001b[0m\n\u001b[0m\u001b[1;32m    804\u001b[0m         \u001b[0;32mexcept\u001b[0m \u001b[0mzmq\u001b[0m\u001b[0;34m.\u001b[0m\u001b[0mZMQError\u001b[0m \u001b[0;32mas\u001b[0m \u001b[0me\u001b[0m\u001b[0;34m:\u001b[0m\u001b[0;34m\u001b[0m\u001b[0;34m\u001b[0m\u001b[0m\n",
            "\u001b[0;32m/usr/local/lib/python3.6/dist-packages/zmq/sugar/socket.py\u001b[0m in \u001b[0;36mrecv_multipart\u001b[0;34m(self, flags, copy, track)\u001b[0m\n\u001b[1;32m    465\u001b[0m         \"\"\"\n\u001b[0;32m--> 466\u001b[0;31m         \u001b[0mparts\u001b[0m \u001b[0;34m=\u001b[0m \u001b[0;34m[\u001b[0m\u001b[0mself\u001b[0m\u001b[0;34m.\u001b[0m\u001b[0mrecv\u001b[0m\u001b[0;34m(\u001b[0m\u001b[0mflags\u001b[0m\u001b[0;34m,\u001b[0m \u001b[0mcopy\u001b[0m\u001b[0;34m=\u001b[0m\u001b[0mcopy\u001b[0m\u001b[0;34m,\u001b[0m \u001b[0mtrack\u001b[0m\u001b[0;34m=\u001b[0m\u001b[0mtrack\u001b[0m\u001b[0;34m)\u001b[0m\u001b[0;34m]\u001b[0m\u001b[0;34m\u001b[0m\u001b[0;34m\u001b[0m\u001b[0m\n\u001b[0m\u001b[1;32m    467\u001b[0m         \u001b[0;31m# have first part already, only loop while more to receive\u001b[0m\u001b[0;34m\u001b[0m\u001b[0;34m\u001b[0m\u001b[0;34m\u001b[0m\u001b[0m\n",
            "\u001b[0;32mzmq/backend/cython/socket.pyx\u001b[0m in \u001b[0;36mzmq.backend.cython.socket.Socket.recv\u001b[0;34m()\u001b[0m\n",
            "\u001b[0;32mzmq/backend/cython/socket.pyx\u001b[0m in \u001b[0;36mzmq.backend.cython.socket.Socket.recv\u001b[0;34m()\u001b[0m\n",
            "\u001b[0;32mzmq/backend/cython/socket.pyx\u001b[0m in \u001b[0;36mzmq.backend.cython.socket._recv_copy\u001b[0;34m()\u001b[0m\n",
            "\u001b[0;32m/usr/local/lib/python3.6/dist-packages/zmq/backend/cython/checkrc.pxd\u001b[0m in \u001b[0;36mzmq.backend.cython.checkrc._check_rc\u001b[0;34m()\u001b[0m\n",
            "\u001b[0;31mKeyboardInterrupt\u001b[0m: ",
            "\nDuring handling of the above exception, another exception occurred:\n",
            "\u001b[0;31mKeyboardInterrupt\u001b[0m                         Traceback (most recent call last)",
            "\u001b[0;32m<ipython-input-3-b3dd34d07e97>\u001b[0m in \u001b[0;36m<module>\u001b[0;34m()\u001b[0m\n\u001b[1;32m    110\u001b[0m \u001b[0;31m#product1= Product(product_name, product_price)\u001b[0m\u001b[0;34m\u001b[0m\u001b[0;34m\u001b[0m\u001b[0;34m\u001b[0m\u001b[0m\n\u001b[1;32m    111\u001b[0m \u001b[0;31m#print(product1.get_details())\u001b[0m\u001b[0;34m\u001b[0m\u001b[0;34m\u001b[0m\u001b[0;34m\u001b[0m\u001b[0m\n\u001b[0;32m--> 112\u001b[0;31m \u001b[0mget_input\u001b[0m\u001b[0;34m(\u001b[0m\u001b[0;34m)\u001b[0m\u001b[0;34m\u001b[0m\u001b[0;34m\u001b[0m\u001b[0m\n\u001b[0m\u001b[1;32m    113\u001b[0m \u001b[0;34m\u001b[0m\u001b[0m\n\u001b[1;32m    114\u001b[0m \u001b[0mconnect\u001b[0m\u001b[0;34m(\u001b[0m\u001b[0;34m)\u001b[0m\u001b[0;34m\u001b[0m\u001b[0;34m\u001b[0m\u001b[0m\n",
            "\u001b[0;32m<ipython-input-3-b3dd34d07e97>\u001b[0m in \u001b[0;36mget_input\u001b[0;34m()\u001b[0m\n\u001b[1;32m     51\u001b[0m \u001b[0;34m\u001b[0m\u001b[0m\n\u001b[1;32m     52\u001b[0m     \u001b[0;32mwhile\u001b[0m \u001b[0;32mTrue\u001b[0m\u001b[0;34m:\u001b[0m\u001b[0;34m\u001b[0m\u001b[0;34m\u001b[0m\u001b[0m\n\u001b[0;32m---> 53\u001b[0;31m         \u001b[0mproduct\u001b[0m \u001b[0;34m=\u001b[0m \u001b[0minput\u001b[0m\u001b[0;34m(\u001b[0m\u001b[0;34m'Please select product - Robot / TV: \\n '\u001b[0m\u001b[0;34m)\u001b[0m\u001b[0;34m\u001b[0m\u001b[0;34m\u001b[0m\u001b[0m\n\u001b[0m\u001b[1;32m     54\u001b[0m         \u001b[0;32mif\u001b[0m \u001b[0mproduct\u001b[0m \u001b[0;34m==\u001b[0m \u001b[0;34m'q'\u001b[0m\u001b[0;34m:\u001b[0m\u001b[0;34m\u001b[0m\u001b[0;34m\u001b[0m\u001b[0m\n\u001b[1;32m     55\u001b[0m               \u001b[0;32mbreak\u001b[0m\u001b[0;34m\u001b[0m\u001b[0;34m\u001b[0m\u001b[0m\n",
            "\u001b[0;32m/usr/local/lib/python3.6/dist-packages/ipykernel/kernelbase.py\u001b[0m in \u001b[0;36mraw_input\u001b[0;34m(self, prompt)\u001b[0m\n\u001b[1;32m    703\u001b[0m             \u001b[0mself\u001b[0m\u001b[0;34m.\u001b[0m\u001b[0m_parent_ident\u001b[0m\u001b[0;34m,\u001b[0m\u001b[0;34m\u001b[0m\u001b[0;34m\u001b[0m\u001b[0m\n\u001b[1;32m    704\u001b[0m             \u001b[0mself\u001b[0m\u001b[0;34m.\u001b[0m\u001b[0m_parent_header\u001b[0m\u001b[0;34m,\u001b[0m\u001b[0;34m\u001b[0m\u001b[0;34m\u001b[0m\u001b[0m\n\u001b[0;32m--> 705\u001b[0;31m             \u001b[0mpassword\u001b[0m\u001b[0;34m=\u001b[0m\u001b[0;32mFalse\u001b[0m\u001b[0;34m,\u001b[0m\u001b[0;34m\u001b[0m\u001b[0;34m\u001b[0m\u001b[0m\n\u001b[0m\u001b[1;32m    706\u001b[0m         )\n\u001b[1;32m    707\u001b[0m \u001b[0;34m\u001b[0m\u001b[0m\n",
            "\u001b[0;32m/usr/local/lib/python3.6/dist-packages/ipykernel/kernelbase.py\u001b[0m in \u001b[0;36m_input_request\u001b[0;34m(self, prompt, ident, parent, password)\u001b[0m\n\u001b[1;32m    733\u001b[0m             \u001b[0;32mexcept\u001b[0m \u001b[0mKeyboardInterrupt\u001b[0m\u001b[0;34m:\u001b[0m\u001b[0;34m\u001b[0m\u001b[0;34m\u001b[0m\u001b[0m\n\u001b[1;32m    734\u001b[0m                 \u001b[0;31m# re-raise KeyboardInterrupt, to truncate traceback\u001b[0m\u001b[0;34m\u001b[0m\u001b[0;34m\u001b[0m\u001b[0;34m\u001b[0m\u001b[0m\n\u001b[0;32m--> 735\u001b[0;31m                 \u001b[0;32mraise\u001b[0m \u001b[0mKeyboardInterrupt\u001b[0m\u001b[0;34m\u001b[0m\u001b[0;34m\u001b[0m\u001b[0m\n\u001b[0m\u001b[1;32m    736\u001b[0m             \u001b[0;32melse\u001b[0m\u001b[0;34m:\u001b[0m\u001b[0;34m\u001b[0m\u001b[0;34m\u001b[0m\u001b[0m\n\u001b[1;32m    737\u001b[0m                 \u001b[0;32mbreak\u001b[0m\u001b[0;34m\u001b[0m\u001b[0;34m\u001b[0m\u001b[0m\n",
            "\u001b[0;31mKeyboardInterrupt\u001b[0m: "
          ]
        }
      ]
    },
    {
      "cell_type": "code",
      "metadata": {
        "id": "7zqG0LXrJywW",
        "colab_type": "code",
        "outputId": "13ec5437-31ca-43b0-ce3b-df22eead7531",
        "colab": {
          "base_uri": "https://localhost:8080/",
          "height": 333
        }
      },
      "source": [
        "def get_input():\n",
        "    global robot_price, tv_price\n",
        "    print('Enter q to quit the application')\n",
        "        \n",
        "    while True:\n",
        "        product = input('Please select product - Robot / TV: \\n ')\n",
        "        if product == 'q':\n",
        "              break\n",
        "        elif product.lower() == 'tv':\n",
        "              price = input('Please tell us your price: \\n ')\n",
        "              if price == 'q':\n",
        "                  break\n",
        "              else:\n",
        "                  tv_price = price\n",
        "        elif product.lower() == 'robot':\n",
        "              price = input('Please tell us your price: \\n ')\n",
        "              if price == 'q':\n",
        "                  break\n",
        "              else:\n",
        "                  robot_price = price\n",
        "        else:\n",
        "              print('Please enter Robot or TV')\n",
        "\n",
        "get_input()\n"
      ],
      "execution_count": 0,
      "outputs": [
        {
          "output_type": "stream",
          "text": [
            "Enter q to quit the application\n",
            "Please select product - Robot / TV: \n",
            " tv\n",
            "Please tell us your price: \n",
            " 10000\n",
            "Please select product - Robot / TV: \n",
            " q\n"
          ],
          "name": "stdout"
        },
        {
          "output_type": "error",
          "ename": "NameError",
          "evalue": "ignored",
          "traceback": [
            "\u001b[0;31m---------------------------------------------------------------------------\u001b[0m",
            "\u001b[0;31mNameError\u001b[0m                                 Traceback (most recent call last)",
            "\u001b[0;32m<ipython-input-19-60a8405fc79f>\u001b[0m in \u001b[0;36m<module>\u001b[0;34m()\u001b[0m\n\u001b[1;32m     23\u001b[0m \u001b[0;34m\u001b[0m\u001b[0m\n\u001b[1;32m     24\u001b[0m \u001b[0mget_input\u001b[0m\u001b[0;34m(\u001b[0m\u001b[0;34m)\u001b[0m\u001b[0;34m\u001b[0m\u001b[0;34m\u001b[0m\u001b[0m\n\u001b[0;32m---> 25\u001b[0;31m \u001b[0mprint\u001b[0m \u001b[0;34m(\u001b[0m\u001b[0mrobot_price\u001b[0m\u001b[0;34m)\u001b[0m\u001b[0;34m\u001b[0m\u001b[0;34m\u001b[0m\u001b[0m\n\u001b[0m\u001b[1;32m     26\u001b[0m \u001b[0mprint\u001b[0m \u001b[0;34m(\u001b[0m\u001b[0mtv_price\u001b[0m\u001b[0;34m)\u001b[0m\u001b[0;34m\u001b[0m\u001b[0;34m\u001b[0m\u001b[0m\n",
            "\u001b[0;31mNameError\u001b[0m: name 'robot_price' is not defined"
          ]
        }
      ]
    }
  ]
}