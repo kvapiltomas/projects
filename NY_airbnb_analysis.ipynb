{
  "nbformat": 4,
  "nbformat_minor": 0,
  "metadata": {
    "colab": {
      "name": "NY_airbnb_analysis.ipynb",
      "provenance": [],
      "authorship_tag": "ABX9TyPcg6ab0Gi2bSXj6GLHUN9t",
      "include_colab_link": true
    },
    "kernelspec": {
      "name": "python3",
      "display_name": "Python 3"
    }
  },
  "cells": [
    {
      "cell_type": "markdown",
      "metadata": {
        "id": "view-in-github",
        "colab_type": "text"
      },
      "source": [
        "<a href=\"https://colab.research.google.com/github/kvapiltomas/projects/blob/master/NY_airbnb_analysis.ipynb\" target=\"_parent\"><img src=\"https://colab.research.google.com/assets/colab-badge.svg\" alt=\"Open In Colab\"/></a>"
      ]
    },
    {
      "cell_type": "code",
      "metadata": {
        "id": "7MP9VctIUqR0",
        "colab_type": "code",
        "colab": {}
      },
      "source": [
        "#libraries import\n",
        "import pandas as pd\n",
        "import matplotlib.pyplot as plt\n",
        "import seaborn as sns\n",
        "import datetime\n",
        "import numpy as np\n",
        "%matplotlib inline"
      ],
      "execution_count": 0,
      "outputs": []
    },
    {
      "cell_type": "markdown",
      "metadata": {
        "id": "HqyNm-kDU5Wv",
        "colab_type": "text"
      },
      "source": [
        "**Loading** dataset"
      ]
    },
    {
      "cell_type": "code",
      "metadata": {
        "id": "yTIZ_QkQU8sH",
        "colab_type": "code",
        "colab": {}
      },
      "source": [
        "#check of data\n",
        "NY = pd.read_csv('AB_NYC_2019.csv')\n",
        "\n",
        "NY.head()"
      ],
      "execution_count": 0,
      "outputs": []
    },
    {
      "cell_type": "code",
      "metadata": {
        "id": "w5b0GXbmU-UG",
        "colab_type": "code",
        "colab": {}
      },
      "source": [
        "NY.info()\n",
        "print('\\nnumber of rows: '+ str(len(NY)))"
      ],
      "execution_count": 0,
      "outputs": []
    },
    {
      "cell_type": "code",
      "metadata": {
        "id": "igfP9IYEU-dO",
        "colab_type": "code",
        "colab": {}
      },
      "source": [
        "#deleting columns: id(not importannt), host_name (deleting due to matter of privacy and missing values, moreover we can use host_id instead of host_name)\n",
        "\n",
        "NY = NY.drop(['id', 'host_name'], axis = 1)\n",
        "\n",
        "NY.info()"
      ],
      "execution_count": 0,
      "outputs": []
    },
    {
      "cell_type": "code",
      "metadata": {
        "id": "p2fwtJWoU-mO",
        "colab_type": "code",
        "colab": {}
      },
      "source": [
        "#checking null values\n",
        "NY.isnull().sum()\n",
        "#x = NY.isnull().sum().sort_values(ascending = False)[:5]\n",
        "#y = NY.isnull().sum().sort_values(ascending = False)[:5].index\n",
        "#plt.figure(figsize=(5,3))\n",
        "#sns.barplot(x,y, palette = \"GnBu_d\")"
      ],
      "execution_count": 0,
      "outputs": []
    },
    {
      "cell_type": "code",
      "metadata": {
        "id": "Tu0C2TBiU-xv",
        "colab_type": "code",
        "colab": {}
      },
      "source": [
        "#let notice that if the number_of_reviews is 0 then there last review and reviews_per_month values is null\n",
        "NY1 = NY[NY.isna().any(axis = 1)]\n",
        "NY1.head()"
      ],
      "execution_count": 0,
      "outputs": []
    },
    {
      "cell_type": "code",
      "metadata": {
        "id": "IVUQdPDbU-wH",
        "colab_type": "code",
        "colab": {}
      },
      "source": [
        "NY['reviews_per_month'].mean()"
      ],
      "execution_count": 0,
      "outputs": []
    },
    {
      "cell_type": "code",
      "metadata": {
        "id": "xxchNK1rU-vB",
        "colab_type": "code",
        "colab": {}
      },
      "source": [
        "NY['reviews_per_month'].fillna('0', inplace = True)\n",
        "NY.drop(['last_review'], axis = 1, inplace = True)\n",
        "NY['name'].fillna('Unknown', inplace = True)"
      ],
      "execution_count": 0,
      "outputs": []
    },
    {
      "cell_type": "code",
      "metadata": {
        "id": "1VDBd-J_U-rh",
        "colab_type": "code",
        "colab": {}
      },
      "source": [
        "NY.isnull().sum()"
      ],
      "execution_count": 0,
      "outputs": []
    },
    {
      "cell_type": "code",
      "metadata": {
        "id": "q3LQp8JRU-k6",
        "colab_type": "code",
        "colab": {}
      },
      "source": [
        "# We will skip the first column NAME as I will try to apply some NLP methods on this column later.\n",
        "# So lets begin with the second column and so on.\n",
        "\n",
        "top_hosts = NY['host_id'].value_counts()[:15]\n",
        "top_hosts"
      ],
      "execution_count": 0,
      "outputs": []
    },
    {
      "cell_type": "code",
      "metadata": {
        "id": "BLX4VLmZU-jN",
        "colab_type": "code",
        "colab": {}
      },
      "source": [
        "#hosts with just one listing\n",
        "one = NY.loc[NY['calculated_host_listings_count']== 1].iloc[:, 11]\n",
        "one.sum()"
      ],
      "execution_count": 0,
      "outputs": []
    },
    {
      "cell_type": "code",
      "metadata": {
        "id": "kA_453WdVnzW",
        "colab_type": "code",
        "colab": {}
      },
      "source": [
        "max_l = NY['calculated_host_listings_count'].max()\n",
        "max_l"
      ],
      "execution_count": 0,
      "outputs": []
    },
    {
      "cell_type": "code",
      "metadata": {
        "id": "BR2oPtMEVn6P",
        "colab_type": "code",
        "colab": {}
      },
      "source": [
        "NY['neighbourhood_group'].unique()"
      ],
      "execution_count": 0,
      "outputs": []
    },
    {
      "cell_type": "code",
      "metadata": {
        "id": "HsvDjSHFVn97",
        "colab_type": "code",
        "colab": {}
      },
      "source": [
        "NY.groupby('neighbourhood_group').agg('count').reset_index()"
      ],
      "execution_count": 0,
      "outputs": []
    },
    {
      "cell_type": "code",
      "metadata": {
        "id": "G7cvzH8QVoAd",
        "colab_type": "code",
        "colab": {}
      },
      "source": [
        "NY.neighbourhood.unique()"
      ],
      "execution_count": 0,
      "outputs": []
    },
    {
      "cell_type": "code",
      "metadata": {
        "id": "-yQMQbzaVoL2",
        "colab_type": "code",
        "colab": {}
      },
      "source": [
        "types = NY['room_type'].unique()\n",
        "#NY['room_type'].loc[NY['room_type']== 'Private room'].count()\n",
        "room_shares= []\n",
        "for type in types:\n",
        "    type_count = int(NY['room_type'].loc[NY['room_type']== type].count())\n",
        "    share = (type_count/len(NY))*100\n",
        "    room_shares.append(share)\n",
        "print(room_shares)"
      ],
      "execution_count": 0,
      "outputs": []
    },
    {
      "cell_type": "code",
      "metadata": {
        "id": "ODAkzxY0VoI_",
        "colab_type": "code",
        "colab": {}
      },
      "source": [
        "#labels = ['Private room', 'Entire home/apt', 'Shared room']\n",
        "labels2 = NY['room_type'].unique()\n",
        "shares = room_shares\n",
        "explode = (0.1, 0, 0) \n",
        "colors = ['yellowgreen', 'gold', 'lightskyblue', 'lightcoral']\n",
        "texts = plt.pie(shares, explode = explode, colors=colors, labels = labels2, shadow=True, autopct='%1.1f%%', startangle=90)\n",
        "plt.axis('equal')\n",
        "plt.tight_layout()\n",
        "plt.show()"
      ],
      "execution_count": 0,
      "outputs": []
    },
    {
      "cell_type": "code",
      "metadata": {
        "id": "ttqLbBDrVoGZ",
        "colab_type": "code",
        "colab": {}
      },
      "source": [
        "NY['neighbourhood_group'].value_counts().nlargest(40).plot(kind='bar', figsize = (10,5))\n",
        "plt.title('neighbourhood')\n",
        "plt.ylabel('No of bookings per neighbourhood')\n",
        "plt.xlabel('neighbourhoods')"
      ],
      "execution_count": 0,
      "outputs": []
    },
    {
      "cell_type": "code",
      "metadata": {
        "id": "KyQut71pVoET",
        "colab_type": "code",
        "colab": {}
      },
      "source": [
        "sns.boxplot(x = NY['price'])"
      ],
      "execution_count": 0,
      "outputs": []
    },
    {
      "cell_type": "code",
      "metadata": {
        "id": "x-2J7EkHV3l9",
        "colab_type": "code",
        "colab": {}
      },
      "source": [
        "NY.corr()"
      ],
      "execution_count": 0,
      "outputs": []
    },
    {
      "cell_type": "code",
      "metadata": {
        "id": "jZrDyAZNV3ry",
        "colab_type": "code",
        "colab": {}
      },
      "source": [
        "plt.figure(figsize = (15,10))\n",
        "C = NY.corr()\n",
        "sns.heatmap(C, cmap = 'BrBG',annot = True)"
      ],
      "execution_count": 0,
      "outputs": []
    },
    {
      "cell_type": "code",
      "metadata": {
        "id": "fU-fcoJRV31r",
        "colab_type": "code",
        "colab": {}
      },
      "source": [
        "fig, ax = plt.subplots(figsize=(10,6))\n",
        "ax.scatter(NY['price'], NY['number_of_reviews'])\n",
        "ax.set_xlabel('price')\n",
        "ax.set_ylabel('number_of_reviews')\n",
        "plt.show()"
      ],
      "execution_count": 0,
      "outputs": []
    },
    {
      "cell_type": "code",
      "metadata": {
        "id": "9tJB1hPNV3wv",
        "colab_type": "code",
        "colab": {}
      },
      "source": [
        "top_hosts = NY['host_id'].value_counts()[0:10].index[0:10]\n",
        "print(top_hosts)"
      ],
      "execution_count": 0,
      "outputs": []
    },
    {
      "cell_type": "code",
      "metadata": {
        "id": "yybF0VHfV3p7",
        "colab_type": "code",
        "colab": {}
      },
      "source": [
        "top = NY[NY['host_id'].isin(list(top_hosts))]\n",
        "print(top)"
      ],
      "execution_count": 0,
      "outputs": []
    },
    {
      "cell_type": "code",
      "metadata": {
        "id": "ozPd8y_WWEDP",
        "colab_type": "code",
        "colab": {}
      },
      "source": [
        "#price distribution\n",
        "print(NY['price'].describe())\n",
        "plt.figure(figsize=(9,8))\n",
        "plt.style.use('bmh')\n",
        "sns.distplot(NY['price'], color ='g', bins = 100, hist_kws = {'alpha':0.3})"
      ],
      "execution_count": 0,
      "outputs": []
    }
  ]
}