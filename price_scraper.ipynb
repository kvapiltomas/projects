{
  "nbformat": 4,
  "nbformat_minor": 0,
  "metadata": {
    "colab": {
      "name": "price_scraper.ipynb",
      "provenance": [],
      "collapsed_sections": [],
      "include_colab_link": true
    },
    "kernelspec": {
      "name": "python3",
      "display_name": "Python 3"
    }
  },
  "cells": [
    {
      "cell_type": "markdown",
      "metadata": {
        "id": "view-in-github",
        "colab_type": "text"
      },
      "source": [
        "<a href=\"https://colab.research.google.com/github/kvapiltomas/projects/blob/master/price_scraper.ipynb\" target=\"_parent\"><img src=\"https://colab.research.google.com/assets/colab-badge.svg\" alt=\"Open In Colab\"/></a>"
      ]
    },
    {
      "cell_type": "code",
      "metadata": {
        "id": "QNulGSXrni3d",
        "colab_type": "code",
        "outputId": "050d04f7-a8cd-480d-f561-80364acdaee9",
        "colab": {
          "base_uri": "https://localhost:8080/",
          "height": 136
        }
      },
      "source": [
        "import requests\n",
        "from bs4 import BeautifulSoup\n",
        "import smtplib\n",
        "\n",
        "link = \"https://roboticke-vysavace.heureka.cz/xiaomi-mi-robot-vacuum/\"\n",
        "link_tv = \"https://televize.heureka.cz/sony-bravia-kd-55xf7596/?gclid=CjwKCAiA3uDwBRBFEiwA1VsajIpE9DgmF8Meppz9WIdZhLF7rCRghJ6cQ-6duSAJhpbD2nzQdUWyuhoCzwkQAvD_BwE\"\n",
        "links = [link_robot, link_tv]\n",
        "\n",
        "headers = {\"User-Agent\":\"Mozilla/5.0 (Windows NT 10.0; Win64; x64) AppleWebKit/537.36 (KHTML, like Gecko) Chrome/78.0.3904.97 Safari/537.36\"}\n",
        "\n",
        "def check_price():\n",
        "  \n",
        "    my_price = 8000\n",
        "\n",
        "    create_product_list(8000,'vacuum cleaner', 'Xiaomi Mi Robot', ['SONY TV'])\n",
        "\n",
        "    for link in links:\n",
        "        web = requests.get(link, headers= headers)\n",
        "\n",
        "        if web:\n",
        "            print(\"successfully found product\\n\")\n",
        "        else:\n",
        "            print(\"error\")\n",
        "\n",
        "        bs = BeautifulSoup(web.content, \"html.parser\")\n",
        "\n",
        "        #print(bs.prettify())\n",
        "\n",
        "        name= bs.find('h1', {'itemprop': 'name'}).get_text()\n",
        "        price = bs.find('span', {'itemprop':'price'}).get_text()\n",
        "        sep = 'Kč'\n",
        "        price_f = price.replace(\" \",\"\").split(sep, 1)[0]\n",
        "\n",
        "        \n",
        "\n",
        "        if int(price_f) < my_price:\n",
        "            send_email(price_f)\n",
        "        elif int(price_f) == my_price:\n",
        "            print(\"Price have reached your target price\")\n",
        "        else:\n",
        "            print(\"Be patient\")\n",
        "\n",
        "\n",
        "def send_email(price_f):\n",
        "        server = smtplib.SMTP('smtp.gmail.com', 587)\n",
        "        server.ehlo()\n",
        "        server.starttls()\n",
        "        server.ehlo()\n",
        "        \n",
        "        user = 'thomik99@gmail.com'\n",
        "        passw = 'mcxfxqxgmtrqgggs'\n",
        "\n",
        "        server.login(user, passw)\n",
        "        \n",
        "        subject = 'Price dropped below you target'\n",
        "        body = f'Price is {price_f} Kc. You can check it here: {link} .'\n",
        "        msg = f'Subject: {subject}\\n\\n{body}'\n",
        "      \n",
        "        server.sendmail(\n",
        "            from_addr = 'HLIDAC 2.0'\n",
        "            ,to_addrs = 'kvapta@seznam.cz'\n",
        "            ,msg = msg\n",
        "        )\n",
        "        print('email has been sent')\n",
        "        \n",
        "        server.quit()\n",
        "\n",
        "def create_product_list(price: str, product_type, product_name: str, product_list: None, category: str = 'NeedToBuy'):\n",
        "    if not product_list:\n",
        "      product_list= []\n",
        "\n",
        "    product_list.append(product_name)\n",
        "\n",
        "    return {\n",
        "        'category': category,\n",
        "        'product_name': product_name,\n",
        "        'product_list': product_list\n",
        "            }\n",
        "product1 = create_product_list(8000, 'vacuum cleaner', 'Xiaomi Mi Robot', ['SONY TV'])\n",
        "\n",
        "print(product1)\n",
        "\n",
        "check_price()"
      ],
      "execution_count": 0,
      "outputs": [
        {
          "output_type": "stream",
          "text": [
            "{'category': 'NeedToBuy', 'product_name': 'Xiaomi Mi Robot', 'product_list': ['SONY TV', 'Xiaomi Mi Robot']}\n",
            "successfully found product\n",
            "\n",
            "email has been sent\n",
            "successfully found product\n",
            "\n",
            "Be patient\n"
          ],
          "name": "stdout"
        }
      ]
    },
    {
      "cell_type": "code",
      "metadata": {
        "id": "4WHC_3bLtWJa",
        "colab_type": "code",
        "outputId": "404ccb16-f99d-4b09-ffdb-0658b3c7481a",
        "colab": {
          "base_uri": "https://localhost:8080/",
          "height": 129
        }
      },
      "source": [
        "import requests\n",
        "ENDPOINT = \"http://gw.kbcloud.cz/sandbox/exchange-rates/v1\"\n",
        "response = requests.get(f\"{ENDPOINT}\")\n",
        "return response.json()\n",
        "\n",
        "\n"
      ],
      "execution_count": 0,
      "outputs": [
        {
          "output_type": "error",
          "ename": "SyntaxError",
          "evalue": "ignored",
          "traceback": [
            "\u001b[0;36m  File \u001b[0;32m\"<ipython-input-19-afc5341894d0>\"\u001b[0;36m, line \u001b[0;32m4\u001b[0m\n\u001b[0;31m    return response.json()\u001b[0m\n\u001b[0m                          ^\u001b[0m\n\u001b[0;31mSyntaxError\u001b[0m\u001b[0;31m:\u001b[0m 'return' outside function\n"
          ]
        }
      ]
    },
    {
      "cell_type": "code",
      "metadata": {
        "id": "RwG6X0Ka2w6W",
        "colab_type": "code",
        "outputId": "90e4acb6-e6b9-4ec6-c841-925aeee09e25",
        "colab": {
          "base_uri": "https://localhost:8080/",
          "height": 231
        }
      },
      "source": [
        "def create_product_list(cena: str,  product_name: str, product_list: None):\n",
        "      if not product_list:\n",
        "        product_list= []\n",
        "\n",
        "      product_list.append(product_name)\n",
        "\n",
        "      return {\n",
        "          'category': category,\n",
        "          'product_name': product_name,\n",
        "          'product_list': product_list\n",
        "              }\n",
        "product1 = create_product_list('8000','vacuum cleaner', 'Xiaomi Mi Robot', ['SONY TV'])\n",
        "product2 = create_product_list(3000,'fridge', 'AEG',[])\n",
        "product3 = create_product_list(4000,'tv', 'Sony',[])\n",
        "\n",
        "print(product1)\n",
        "\n"
      ],
      "execution_count": 0,
      "outputs": [
        {
          "output_type": "error",
          "ename": "TypeError",
          "evalue": "ignored",
          "traceback": [
            "\u001b[0;31m---------------------------------------------------------------------------\u001b[0m",
            "\u001b[0;31mTypeError\u001b[0m                                 Traceback (most recent call last)",
            "\u001b[0;32m<ipython-input-80-a184cbdea836>\u001b[0m in \u001b[0;36m<module>\u001b[0;34m()\u001b[0m\n\u001b[1;32m     10\u001b[0m           \u001b[0;34m'product_list'\u001b[0m\u001b[0;34m:\u001b[0m \u001b[0mproduct_list\u001b[0m\u001b[0;34m\u001b[0m\u001b[0;34m\u001b[0m\u001b[0m\n\u001b[1;32m     11\u001b[0m               }\n\u001b[0;32m---> 12\u001b[0;31m \u001b[0mproduct1\u001b[0m \u001b[0;34m=\u001b[0m \u001b[0mcreate_product_list\u001b[0m\u001b[0;34m(\u001b[0m\u001b[0;34m'8000'\u001b[0m\u001b[0;34m,\u001b[0m\u001b[0;34m'vacuum cleaner'\u001b[0m\u001b[0;34m,\u001b[0m \u001b[0;34m'Xiaomi Mi Robot'\u001b[0m\u001b[0;34m,\u001b[0m \u001b[0;34m[\u001b[0m\u001b[0;34m'SONY TV'\u001b[0m\u001b[0;34m]\u001b[0m\u001b[0;34m)\u001b[0m\u001b[0;34m\u001b[0m\u001b[0;34m\u001b[0m\u001b[0m\n\u001b[0m\u001b[1;32m     13\u001b[0m \u001b[0mproduct2\u001b[0m \u001b[0;34m=\u001b[0m \u001b[0mcreate_product_list\u001b[0m\u001b[0;34m(\u001b[0m\u001b[0;36m3000\u001b[0m\u001b[0;34m,\u001b[0m\u001b[0;34m'fridge'\u001b[0m\u001b[0;34m,\u001b[0m \u001b[0;34m'AEG'\u001b[0m\u001b[0;34m,\u001b[0m\u001b[0;34m[\u001b[0m\u001b[0;34m]\u001b[0m\u001b[0;34m)\u001b[0m\u001b[0;34m\u001b[0m\u001b[0;34m\u001b[0m\u001b[0m\n\u001b[1;32m     14\u001b[0m \u001b[0mproduct3\u001b[0m \u001b[0;34m=\u001b[0m \u001b[0mcreate_product_list\u001b[0m\u001b[0;34m(\u001b[0m\u001b[0;36m4000\u001b[0m\u001b[0;34m,\u001b[0m\u001b[0;34m'tv'\u001b[0m\u001b[0;34m,\u001b[0m \u001b[0;34m'Sony'\u001b[0m\u001b[0;34m,\u001b[0m\u001b[0;34m[\u001b[0m\u001b[0;34m]\u001b[0m\u001b[0;34m)\u001b[0m\u001b[0;34m\u001b[0m\u001b[0;34m\u001b[0m\u001b[0m\n",
            "\u001b[0;31mTypeError\u001b[0m: create_product_list() takes 3 positional arguments but 4 were given"
          ]
        }
      ]
    },
    {
      "cell_type": "code",
      "metadata": {
        "id": "k63umvYq8_Sk",
        "colab_type": "code",
        "outputId": "4e27ac1b-ef5d-481e-ded1-48be2d928b56",
        "colab": {
          "base_uri": "https://localhost:8080/",
          "height": 54
        }
      },
      "source": [
        "def create_product_list(category: str,  product_name: str, product_list = []):\n",
        "\n",
        "    product_list.append(product_name)\n",
        "\n",
        "    return {\n",
        "        'category': category,\n",
        "        'product_name': product_name,\n",
        "        'product_list': product_list\n",
        "            }\n",
        "product1 = create_product_list('vacuum cleaner', 'Xiaomi Mi Robot')\n",
        "product2 = create_product_list('fridge', 'AEG')\n",
        "product3 = create_product_list('tv', 'Sony')\n",
        "\n",
        "print(product1)\n"
      ],
      "execution_count": 0,
      "outputs": [
        {
          "output_type": "stream",
          "text": [
            "[{'category': 'vacuum cleaner', 'product_name': 'Xiaomi Mi Robot', 'product_list': ['Xiaomi Mi Robot', 'AEG', 'Sony']}, {'category': 'fridge', 'product_name': 'AEG', 'product_list': ['Xiaomi Mi Robot', 'AEG', 'Sony']}, {'category': 'tv', 'product_name': 'Sony', 'product_list': ['Xiaomi Mi Robot', 'AEG', 'Sony']}]\n"
          ],
          "name": "stdout"
        }
      ]
    },
    {
      "cell_type": "code",
      "metadata": {
        "id": "p9RNsRLm_MLQ",
        "colab_type": "code",
        "outputId": "ca700231-fe49-426f-a741-0e3ffdff2841",
        "colab": {
          "base_uri": "https://localhost:8080/",
          "height": 408
        }
      },
      "source": [
        "import requests\n",
        "from bs4 import BeautifulSoup\n",
        "import smtplib\n",
        "\n",
        "link_robot = \"https://roboticke-vysavace.heureka.cz/xiaomi-mi-robot-vacuum/\"\n",
        "link_tv = \"https://televize.heureka.cz/sony-bravia-kd-55xf7596/?gclid=CjwKCAiA3uDwBRBFEiwA1VsajIpE9DgmF8Meppz9WIdZhLF7rCRghJ6cQ-6duSAJhpbD2nzQdUWyuhoCzwkQAvD_BwE\"\n",
        "links = [link_robot, link_tv]\n",
        "my_price = 8000\n",
        "my_price_robot = 7000\n",
        "\n",
        "headers = {\"User-Agent\":\"Mozilla/5.0 (Windows NT 10.0; Win64; x64) AppleWebKit/537.36 (KHTML, like Gecko) Chrome/78.0.3904.97 Safari/537.36\"}\n",
        "\n",
        "products = {}\n",
        "class Product:\n",
        "    def __init__(self, product_name, product_price):\n",
        "        self.name = product_name\n",
        "        self.price = product_price\n",
        "\n",
        "    def get_details(self):\n",
        "        for link in links:\n",
        "            web = requests.get(link, headers= headers)\n",
        "\n",
        "            if web:\n",
        "                print(\"successfully connected\\n\")\n",
        "            else:\n",
        "                print(\"error\")\n",
        "\n",
        "            bs = BeautifulSoup(web.content, \"html.parser\")\n",
        "\n",
        "            #print(bs.prettify())\n",
        "\n",
        "            name= bs.find('h1', {'itemprop': 'name'}).get_text()\n",
        "            price = bs.find('span', {'itemprop':'price'}).get_text()\n",
        "            sep = 'Kč'\n",
        "            price_f = price.replace(\" \",\"\").split(sep, 1)[0]\n",
        "            products.update(name, price_f)\n",
        "            #create_product_list('Electronics', name, ['SONY TV'])\n",
        "            print(products)\n",
        "            #print(product1)\n",
        "\n",
        "        #if int(price_f) < my_price:\n",
        "        #    send_email(price_f)\n",
        "       # elif int(price_f) == my_price:\n",
        "        #    print(\"Price have reached your target price\")\n",
        "        #else:\n",
        "       #     print(\"Be patient\")\n",
        "\n",
        "\n",
        "    def send_email(price_f):\n",
        "            server = smtplib.SMTP('smtp.gmail.com', 587)\n",
        "            server.ehlo()\n",
        "            server.starttls()\n",
        "            server.ehlo()\n",
        "            \n",
        "            user = 'thomik99@gmail.com'\n",
        "            passw = 'mcxfxqxgmtrqgggs'\n",
        "\n",
        "            server.login(user, passw)\n",
        "            \n",
        "            subject = 'Price dropped below you target'\n",
        "            body = f'Price is {price_f} Kc. You can check it here: {link} .'\n",
        "            msg = f'Subject: {subject}\\n\\n{body}'\n",
        "          \n",
        "            server.sendmail(\n",
        "                from_addr = 'HLIDAC 2.0'\n",
        "                ,to_addrs = 'kvapta@seznam.cz'\n",
        "                ,msg = msg\n",
        "            )\n",
        "            print('email has been sent')\n",
        "            \n",
        "            server.quit()\n",
        "\n",
        "    def create_product_list(product_type: str,  name, product_list: None,  category: str = 'NeedToBuy'):\n",
        "          if not product_list:\n",
        "              product_list= []\n",
        "\n",
        "          product_list.append(name)\n",
        "\n",
        "          print(product1)\n",
        "\n",
        "          return {\n",
        "              'category': category,\n",
        "              'product_name': name,\n",
        "              'product_list': product_list\n",
        "                  }\n",
        "        \n",
        "\n",
        "    check_price()"
      ],
      "execution_count": 0,
      "outputs": [
        {
          "output_type": "stream",
          "text": [
            "successfully connected\n",
            "\n"
          ],
          "name": "stdout"
        },
        {
          "output_type": "error",
          "ename": "TypeError",
          "evalue": "ignored",
          "traceback": [
            "\u001b[0;31m---------------------------------------------------------------------------\u001b[0m",
            "\u001b[0;31mTypeError\u001b[0m                                 Traceback (most recent call last)",
            "\u001b[0;32m<ipython-input-131-67697e881ada>\u001b[0m in \u001b[0;36m<module>\u001b[0;34m()\u001b[0m\n\u001b[1;32m     12\u001b[0m \u001b[0;34m\u001b[0m\u001b[0m\n\u001b[1;32m     13\u001b[0m \u001b[0mproducts\u001b[0m \u001b[0;34m=\u001b[0m \u001b[0;34m{\u001b[0m\u001b[0;34m}\u001b[0m\u001b[0;34m\u001b[0m\u001b[0;34m\u001b[0m\u001b[0m\n\u001b[0;32m---> 14\u001b[0;31m \u001b[0;32mclass\u001b[0m \u001b[0mProduct\u001b[0m\u001b[0;34m:\u001b[0m\u001b[0;34m\u001b[0m\u001b[0;34m\u001b[0m\u001b[0m\n\u001b[0m\u001b[1;32m     15\u001b[0m     \u001b[0;32mdef\u001b[0m \u001b[0m__init__\u001b[0m\u001b[0;34m(\u001b[0m\u001b[0mself\u001b[0m\u001b[0;34m,\u001b[0m \u001b[0mproduct_name\u001b[0m\u001b[0;34m,\u001b[0m \u001b[0mproduct_price\u001b[0m\u001b[0;34m)\u001b[0m\u001b[0;34m:\u001b[0m\u001b[0;34m\u001b[0m\u001b[0;34m\u001b[0m\u001b[0m\n\u001b[1;32m     16\u001b[0m         \u001b[0mself\u001b[0m\u001b[0;34m.\u001b[0m\u001b[0mname\u001b[0m \u001b[0;34m=\u001b[0m \u001b[0mproduct_name\u001b[0m\u001b[0;34m\u001b[0m\u001b[0;34m\u001b[0m\u001b[0m\n",
            "\u001b[0;32m<ipython-input-131-67697e881ada>\u001b[0m in \u001b[0;36mProduct\u001b[0;34m()\u001b[0m\n\u001b[1;32m     86\u001b[0m \u001b[0;34m\u001b[0m\u001b[0m\n\u001b[1;32m     87\u001b[0m \u001b[0;34m\u001b[0m\u001b[0m\n\u001b[0;32m---> 88\u001b[0;31m     \u001b[0mcheck_price\u001b[0m\u001b[0;34m(\u001b[0m\u001b[0;34m)\u001b[0m\u001b[0;34m\u001b[0m\u001b[0;34m\u001b[0m\u001b[0m\n\u001b[0m",
            "\u001b[0;32m<ipython-input-115-e09317c851a6>\u001b[0m in \u001b[0;36mcheck_price\u001b[0;34m()\u001b[0m\n\u001b[1;32m     30\u001b[0m         \u001b[0msep\u001b[0m \u001b[0;34m=\u001b[0m \u001b[0;34m'Kč'\u001b[0m\u001b[0;34m\u001b[0m\u001b[0;34m\u001b[0m\u001b[0m\n\u001b[1;32m     31\u001b[0m         \u001b[0mprice_f\u001b[0m \u001b[0;34m=\u001b[0m \u001b[0mprice\u001b[0m\u001b[0;34m.\u001b[0m\u001b[0mreplace\u001b[0m\u001b[0;34m(\u001b[0m\u001b[0;34m\" \"\u001b[0m\u001b[0;34m,\u001b[0m\u001b[0;34m\"\"\u001b[0m\u001b[0;34m)\u001b[0m\u001b[0;34m.\u001b[0m\u001b[0msplit\u001b[0m\u001b[0;34m(\u001b[0m\u001b[0msep\u001b[0m\u001b[0;34m,\u001b[0m \u001b[0;36m1\u001b[0m\u001b[0;34m)\u001b[0m\u001b[0;34m[\u001b[0m\u001b[0;36m0\u001b[0m\u001b[0;34m]\u001b[0m\u001b[0;34m\u001b[0m\u001b[0;34m\u001b[0m\u001b[0m\n\u001b[0;32m---> 32\u001b[0;31m         \u001b[0mproduct_list\u001b[0m\u001b[0;34m.\u001b[0m\u001b[0mappend\u001b[0m\u001b[0;34m(\u001b[0m\u001b[0mname\u001b[0m\u001b[0;34m,\u001b[0m \u001b[0mprice_f\u001b[0m\u001b[0;34m)\u001b[0m\u001b[0;34m\u001b[0m\u001b[0;34m\u001b[0m\u001b[0m\n\u001b[0m\u001b[1;32m     33\u001b[0m         \u001b[0;31m#create_product_list('Electronics', name, ['SONY TV'])\u001b[0m\u001b[0;34m\u001b[0m\u001b[0;34m\u001b[0m\u001b[0;34m\u001b[0m\u001b[0m\n\u001b[1;32m     34\u001b[0m     \u001b[0mprint\u001b[0m\u001b[0;34m(\u001b[0m\u001b[0mproduct_list\u001b[0m\u001b[0;34m)\u001b[0m\u001b[0;34m\u001b[0m\u001b[0;34m\u001b[0m\u001b[0m\n",
            "\u001b[0;31mTypeError\u001b[0m: append() takes exactly one argument (2 given)"
          ]
        }
      ]
    },
    {
      "cell_type": "code",
      "metadata": {
        "id": "PQOaX4F7VUXK",
        "colab_type": "code",
        "outputId": "f9ceebc9-cd93-47dd-d75f-030d1bc967b4",
        "colab": {
          "base_uri": "https://localhost:8080/",
          "height": 374
        }
      },
      "source": [
        "import requests\n",
        "from bs4 import BeautifulSoup\n",
        "import smtplib\n",
        "import json\n",
        "\n",
        "link_robot = \"https://roboticke-vysavace.heureka.cz/xiaomi-mi-robot-vacuum/\"\n",
        "link_tv = \"https://televize.heureka.cz/sony-bravia-kd-55xf7596/?gclid=CjwKCAiA3uDwBRBFEiwA1VsajIpE9DgmF8Meppz9WIdZhLF7rCRghJ6cQ-6duSAJhpbD2nzQdUWyuhoCzwkQAvD_BwE\"\n",
        "links = [link_robot, link_tv]\n",
        "my_price = 8000\n",
        "my_price_robot = 7000\n",
        "\n",
        "headers = {\"User-Agent\":\"Mozilla/5.0 (Windows NT 10.0; Win64; x64) AppleWebKit/537.36 (KHTML, like Gecko) Chrome/78.0.3904.97 Safari/537.36\"}\n",
        "\n",
        "\n",
        "class Product:\n",
        "      def __init__(self, product_name, price_f):\n",
        "          self.name = product_name\n",
        "          self.price = price_f\n",
        "          self.user_price = []\n",
        "          \n",
        "      def print(self):\n",
        "          print(self.name)\n",
        "          print(self.price)\n",
        "\n",
        "      def price_check(self):\n",
        "          print('Product ' + self.name + ' currently costs ' + self.price)\n",
        "\n",
        "      def comparison(self):\n",
        "          if int(self.price) < my_price:\n",
        "              send_email(self.price)\n",
        "          elif int(self.price) == my_price:\n",
        "              print(\"Price of\" + self.name + \"have reached your target price\")\n",
        "          else:\n",
        "              print(\"Be patient\")\n",
        "\n",
        "\n",
        "def connect():\n",
        "    for link in links:\n",
        "        web = requests.get(link, headers= headers)\n",
        "\n",
        "        if web:\n",
        "            print(\"successfully connected to: \\n\" + link + '\\n')\n",
        "            get_details(web)\n",
        "        else:\n",
        "            print('connection to' + link + 'failed\\n')\n",
        "            \n",
        "\n",
        "def get_input():\n",
        "    global my_price\n",
        "    print('Enter q to quit the application')\n",
        "        \n",
        "    while True:\n",
        "        product = input('Please select product - Robot / TV: \\n ')\n",
        "        if product == 'q':\n",
        "              break\n",
        "        elif product.lower() == 'tv':\n",
        "              price = input('Please tell us your price: \\n ')\n",
        "              if price == 'q':\n",
        "                  break\n",
        "              else:\n",
        "                  my_price = int(price)\n",
        "        else:\n",
        "              print('Please enter Robot or TV')\n",
        "\n",
        "    \n",
        "def get_details(web):        \n",
        "        bs = BeautifulSoup(web.content, \"html.parser\")\n",
        "\n",
        "            #print(bs.prettify())\n",
        "\n",
        "        product_name = bs.find('h1', {'itemprop': 'name'}).get_text()\n",
        "        product_price = bs.find('span', {'itemprop':'price'}).get_text()\n",
        "        sep = 'Kč'\n",
        "        price_f = product_price.replace(\" \",\"\").split(sep, 1)[0]\n",
        "        #print(product_name, product_price)\n",
        "        \n",
        "        my_product = Product(product_name, price_f)    \n",
        "        print(my_product.price_check())\n",
        "        print(my_product.comparison())\n",
        "        #product_name[product_name] = product_name\n",
        "        #product_name[product_price] = product_price\n",
        "        # print(product_name)\n",
        "        #print(Product.product_price)\n",
        "\n",
        "\n",
        "def send_email(price_f):\n",
        "            server = smtplib.SMTP('smtp.gmail.com', 587)\n",
        "            server.ehlo()\n",
        "            server.starttls()\n",
        "            server.ehlo()\n",
        "            \n",
        "            user = 'thomik99@gmail.com'\n",
        "            passw = 'mcxfxqxgmtrqgggs'\n",
        "\n",
        "            server.login(user, passw)\n",
        "            \n",
        "            subject = 'Price dropped below you target'\n",
        "            body = f'Price is {price_f} Kc. You can check it here: .'\n",
        "            msg = f'Subject: {subject}\\n\\n{body}'\n",
        "          \n",
        "            server.sendmail(\n",
        "                from_addr = 'HLIDAC 2.0'\n",
        "                ,to_addrs = 'kvapta@seznam.cz'\n",
        "                ,msg = msg\n",
        "            )\n",
        "            print('email has been sent')\n",
        "            \n",
        "            server.quit()\n",
        "\n",
        "#product1= Product(product_name, product_price)\n",
        "#print(product1.get_details())\n",
        "get_input()\n",
        "\n",
        "connect()\n",
        "#product = Product()"
      ],
      "execution_count": 0,
      "outputs": [
        {
          "output_type": "stream",
          "text": [
            "Enter q to quit the application\n",
            "Please select product - Robot / TV: \n",
            " tv\n",
            "Please tell us your price: \n",
            " 10000\n",
            "Please select product - Robot / TV: \n",
            " q\n",
            "successfully connected to: \n",
            "https://roboticke-vysavace.heureka.cz/xiaomi-mi-robot-vacuum/\n",
            "\n",
            "Product Xiaomi Mi Robot Vacuum currently costs 6448\n",
            "None\n",
            "email has been sent\n",
            "None\n",
            "successfully connected to: \n",
            "https://televize.heureka.cz/sony-bravia-kd-55xf7596/?gclid=CjwKCAiA3uDwBRBFEiwA1VsajIpE9DgmF8Meppz9WIdZhLF7rCRghJ6cQ-6duSAJhpbD2nzQdUWyuhoCzwkQAvD_BwE\n",
            "\n",
            "Product Sony Bravia KD-55XF7596 currently costs 17990\n",
            "None\n",
            "Be patient\n",
            "None\n"
          ],
          "name": "stdout"
        }
      ]
    },
    {
      "cell_type": "code",
      "metadata": {
        "id": "7zqG0LXrJywW",
        "colab_type": "code",
        "outputId": "13ec5437-31ca-43b0-ce3b-df22eead7531",
        "colab": {
          "base_uri": "https://localhost:8080/",
          "height": 333
        }
      },
      "source": [
        "def get_input():\n",
        "    global robot_price, tv_price\n",
        "    print('Enter q to quit the application')\n",
        "        \n",
        "    while True:\n",
        "        product = input('Please select product - Robot / TV: \\n ')\n",
        "        if product == 'q':\n",
        "              break\n",
        "        elif product.lower() == 'tv':\n",
        "              price = input('Please tell us your price: \\n ')\n",
        "              if price == 'q':\n",
        "                  break\n",
        "              else:\n",
        "                  tv_price = price\n",
        "        elif product.lower() == 'robot':\n",
        "              price = input('Please tell us your price: \\n ')\n",
        "              if price == 'q':\n",
        "                  break\n",
        "              else:\n",
        "                  robot_price = price\n",
        "        else:\n",
        "              print('Please enter Robot or TV')\n",
        "\n",
        "get_input()\n"
      ],
      "execution_count": 0,
      "outputs": [
        {
          "output_type": "stream",
          "text": [
            "Enter q to quit the application\n",
            "Please select product - Robot / TV: \n",
            " tv\n",
            "Please tell us your price: \n",
            " 10000\n",
            "Please select product - Robot / TV: \n",
            " q\n"
          ],
          "name": "stdout"
        },
        {
          "output_type": "error",
          "ename": "NameError",
          "evalue": "ignored",
          "traceback": [
            "\u001b[0;31m---------------------------------------------------------------------------\u001b[0m",
            "\u001b[0;31mNameError\u001b[0m                                 Traceback (most recent call last)",
            "\u001b[0;32m<ipython-input-19-60a8405fc79f>\u001b[0m in \u001b[0;36m<module>\u001b[0;34m()\u001b[0m\n\u001b[1;32m     23\u001b[0m \u001b[0;34m\u001b[0m\u001b[0m\n\u001b[1;32m     24\u001b[0m \u001b[0mget_input\u001b[0m\u001b[0;34m(\u001b[0m\u001b[0;34m)\u001b[0m\u001b[0;34m\u001b[0m\u001b[0;34m\u001b[0m\u001b[0m\n\u001b[0;32m---> 25\u001b[0;31m \u001b[0mprint\u001b[0m \u001b[0;34m(\u001b[0m\u001b[0mrobot_price\u001b[0m\u001b[0;34m)\u001b[0m\u001b[0;34m\u001b[0m\u001b[0;34m\u001b[0m\u001b[0m\n\u001b[0m\u001b[1;32m     26\u001b[0m \u001b[0mprint\u001b[0m \u001b[0;34m(\u001b[0m\u001b[0mtv_price\u001b[0m\u001b[0;34m)\u001b[0m\u001b[0;34m\u001b[0m\u001b[0;34m\u001b[0m\u001b[0m\n",
            "\u001b[0;31mNameError\u001b[0m: name 'robot_price' is not defined"
          ]
        }
      ]
    },
    {
      "cell_type": "code",
      "metadata": {
        "id": "sKkly9XrKChG",
        "colab_type": "code",
        "outputId": "9debbddb-7d3b-4859-b78b-e6e5fcb7d701",
        "colab": {
          "base_uri": "https://localhost:8080/",
          "height": 163
        }
      },
      "source": [
        ""
      ],
      "execution_count": 0,
      "outputs": [
        {
          "output_type": "error",
          "ename": "NameError",
          "evalue": "ignored",
          "traceback": [
            "\u001b[0;31m---------------------------------------------------------------------------\u001b[0m",
            "\u001b[0;31mNameError\u001b[0m                                 Traceback (most recent call last)",
            "\u001b[0;32m<ipython-input-12-820166a9b28f>\u001b[0m in \u001b[0;36m<module>\u001b[0;34m()\u001b[0m\n\u001b[0;32m----> 1\u001b[0;31m \u001b[0mTV\u001b[0m\u001b[0;34m\u001b[0m\u001b[0;34m\u001b[0m\u001b[0m\n\u001b[0m",
            "\u001b[0;31mNameError\u001b[0m: name 'TV' is not defined"
          ]
        }
      ]
    },
    {
      "cell_type": "markdown",
      "metadata": {
        "id": "4UN-BTyO1wi_",
        "colab_type": "text"
      },
      "source": [
        "Imprt of libraries"
      ]
    },
    {
      "cell_type": "code",
      "metadata": {
        "id": "tgMREpKeKIHK",
        "colab_type": "code",
        "colab": {}
      },
      "source": [
        "#libraries import\n",
        "import pandas as pd\n",
        "import matplotlib.pyplot as plt\n",
        "import seaborn as sns\n",
        "import datetime\n",
        "import numpy as np\n",
        "%matplotlib inline"
      ],
      "execution_count": 0,
      "outputs": []
    },
    {
      "cell_type": "markdown",
      "metadata": {
        "id": "QwL23nDM1uki",
        "colab_type": "text"
      },
      "source": [
        "Loading dataset"
      ]
    },
    {
      "cell_type": "code",
      "metadata": {
        "id": "0AkZ2vJGWlQ8",
        "colab_type": "code",
        "outputId": "1b324a9a-87fb-4c40-f3a1-82a4e80d5f27",
        "colab": {
          "base_uri": "https://localhost:8080/",
          "height": 411
        }
      },
      "source": [
        "#check of data\n",
        "NY = pd.read_csv('AB_NYC_2019.csv')\n",
        "\n",
        "NY.head()"
      ],
      "execution_count": 0,
      "outputs": [
        {
          "output_type": "execute_result",
          "data": {
            "text/html": [
              "<div>\n",
              "<style scoped>\n",
              "    .dataframe tbody tr th:only-of-type {\n",
              "        vertical-align: middle;\n",
              "    }\n",
              "\n",
              "    .dataframe tbody tr th {\n",
              "        vertical-align: top;\n",
              "    }\n",
              "\n",
              "    .dataframe thead th {\n",
              "        text-align: right;\n",
              "    }\n",
              "</style>\n",
              "<table border=\"1\" class=\"dataframe\">\n",
              "  <thead>\n",
              "    <tr style=\"text-align: right;\">\n",
              "      <th></th>\n",
              "      <th>id</th>\n",
              "      <th>name</th>\n",
              "      <th>host_id</th>\n",
              "      <th>host_name</th>\n",
              "      <th>neighbourhood_group</th>\n",
              "      <th>neighbourhood</th>\n",
              "      <th>latitude</th>\n",
              "      <th>longitude</th>\n",
              "      <th>room_type</th>\n",
              "      <th>price</th>\n",
              "      <th>minimum_nights</th>\n",
              "      <th>number_of_reviews</th>\n",
              "      <th>last_review</th>\n",
              "      <th>reviews_per_month</th>\n",
              "      <th>calculated_host_listings_count</th>\n",
              "      <th>availability_365</th>\n",
              "    </tr>\n",
              "  </thead>\n",
              "  <tbody>\n",
              "    <tr>\n",
              "      <th>0</th>\n",
              "      <td>2539</td>\n",
              "      <td>Clean &amp; quiet apt home by the park</td>\n",
              "      <td>2787</td>\n",
              "      <td>John</td>\n",
              "      <td>Brooklyn</td>\n",
              "      <td>Kensington</td>\n",
              "      <td>40.64749</td>\n",
              "      <td>-73.97237</td>\n",
              "      <td>Private room</td>\n",
              "      <td>149</td>\n",
              "      <td>1</td>\n",
              "      <td>9</td>\n",
              "      <td>2018-10-19</td>\n",
              "      <td>0.21</td>\n",
              "      <td>6</td>\n",
              "      <td>365</td>\n",
              "    </tr>\n",
              "    <tr>\n",
              "      <th>1</th>\n",
              "      <td>2595</td>\n",
              "      <td>Skylit Midtown Castle</td>\n",
              "      <td>2845</td>\n",
              "      <td>Jennifer</td>\n",
              "      <td>Manhattan</td>\n",
              "      <td>Midtown</td>\n",
              "      <td>40.75362</td>\n",
              "      <td>-73.98377</td>\n",
              "      <td>Entire home/apt</td>\n",
              "      <td>225</td>\n",
              "      <td>1</td>\n",
              "      <td>45</td>\n",
              "      <td>2019-05-21</td>\n",
              "      <td>0.38</td>\n",
              "      <td>2</td>\n",
              "      <td>355</td>\n",
              "    </tr>\n",
              "    <tr>\n",
              "      <th>2</th>\n",
              "      <td>3647</td>\n",
              "      <td>THE VILLAGE OF HARLEM....NEW YORK !</td>\n",
              "      <td>4632</td>\n",
              "      <td>Elisabeth</td>\n",
              "      <td>Manhattan</td>\n",
              "      <td>Harlem</td>\n",
              "      <td>40.80902</td>\n",
              "      <td>-73.94190</td>\n",
              "      <td>Private room</td>\n",
              "      <td>150</td>\n",
              "      <td>3</td>\n",
              "      <td>0</td>\n",
              "      <td>NaN</td>\n",
              "      <td>NaN</td>\n",
              "      <td>1</td>\n",
              "      <td>365</td>\n",
              "    </tr>\n",
              "    <tr>\n",
              "      <th>3</th>\n",
              "      <td>3831</td>\n",
              "      <td>Cozy Entire Floor of Brownstone</td>\n",
              "      <td>4869</td>\n",
              "      <td>LisaRoxanne</td>\n",
              "      <td>Brooklyn</td>\n",
              "      <td>Clinton Hill</td>\n",
              "      <td>40.68514</td>\n",
              "      <td>-73.95976</td>\n",
              "      <td>Entire home/apt</td>\n",
              "      <td>89</td>\n",
              "      <td>1</td>\n",
              "      <td>270</td>\n",
              "      <td>2019-07-05</td>\n",
              "      <td>4.64</td>\n",
              "      <td>1</td>\n",
              "      <td>194</td>\n",
              "    </tr>\n",
              "    <tr>\n",
              "      <th>4</th>\n",
              "      <td>5022</td>\n",
              "      <td>Entire Apt: Spacious Studio/Loft by central park</td>\n",
              "      <td>7192</td>\n",
              "      <td>Laura</td>\n",
              "      <td>Manhattan</td>\n",
              "      <td>East Harlem</td>\n",
              "      <td>40.79851</td>\n",
              "      <td>-73.94399</td>\n",
              "      <td>Entire home/apt</td>\n",
              "      <td>80</td>\n",
              "      <td>10</td>\n",
              "      <td>9</td>\n",
              "      <td>2018-11-19</td>\n",
              "      <td>0.10</td>\n",
              "      <td>1</td>\n",
              "      <td>0</td>\n",
              "    </tr>\n",
              "  </tbody>\n",
              "</table>\n",
              "</div>"
            ],
            "text/plain": [
              "     id  ... availability_365\n",
              "0  2539  ...              365\n",
              "1  2595  ...              355\n",
              "2  3647  ...              365\n",
              "3  3831  ...              194\n",
              "4  5022  ...                0\n",
              "\n",
              "[5 rows x 16 columns]"
            ]
          },
          "metadata": {
            "tags": []
          },
          "execution_count": 18
        }
      ]
    },
    {
      "cell_type": "code",
      "metadata": {
        "id": "hL_jzPUxYU5D",
        "colab_type": "code",
        "outputId": "4a7a62a8-e3a4-4988-a1a8-3c02531e36c4",
        "colab": {
          "base_uri": "https://localhost:8080/",
          "height": 357
        }
      },
      "source": [
        "NY.info()\n",
        "print('\\nnumber of rows: '+ str(len(NY)))"
      ],
      "execution_count": 0,
      "outputs": [
        {
          "output_type": "stream",
          "text": [
            "<class 'pandas.core.frame.DataFrame'>\n",
            "RangeIndex: 48895 entries, 0 to 48894\n",
            "Data columns (total 13 columns):\n",
            "name                              48895 non-null object\n",
            "host_id                           48895 non-null int64\n",
            "neighbourhood_group               48895 non-null object\n",
            "neighbourhood                     48895 non-null object\n",
            "latitude                          48895 non-null float64\n",
            "longitude                         48895 non-null float64\n",
            "room_type                         48895 non-null object\n",
            "price                             48895 non-null int64\n",
            "minimum_nights                    48895 non-null int64\n",
            "number_of_reviews                 48895 non-null int64\n",
            "reviews_per_month                 48895 non-null object\n",
            "calculated_host_listings_count    48895 non-null int64\n",
            "availability_365                  48895 non-null int64\n",
            "dtypes: float64(2), int64(6), object(5)\n",
            "memory usage: 4.8+ MB\n",
            "\n",
            "number of rows: 48895\n"
          ],
          "name": "stdout"
        }
      ]
    },
    {
      "cell_type": "markdown",
      "metadata": {
        "id": "WFx_cx8d1he4",
        "colab_type": "text"
      },
      "source": [
        "DATA CLEANING\n"
      ]
    },
    {
      "cell_type": "code",
      "metadata": {
        "id": "WOKKzIj2YWCm",
        "colab_type": "code",
        "outputId": "225e54b1-4dc6-4d42-8361-6305ee338431",
        "colab": {
          "base_uri": "https://localhost:8080/",
          "height": 340
        }
      },
      "source": [
        "#deleting columns: id(not importannt), host_name (deleting due to matter of privacy and missing values, moreover we can use host_id instead of host_name)\n",
        "\n",
        "NY = NY.drop(['id', 'host_name'], axis = 1)\n",
        "\n",
        "NY.info()"
      ],
      "execution_count": 0,
      "outputs": [
        {
          "output_type": "stream",
          "text": [
            "<class 'pandas.core.frame.DataFrame'>\n",
            "RangeIndex: 48895 entries, 0 to 48894\n",
            "Data columns (total 14 columns):\n",
            "name                              48879 non-null object\n",
            "host_id                           48895 non-null int64\n",
            "neighbourhood_group               48895 non-null object\n",
            "neighbourhood                     48895 non-null object\n",
            "latitude                          48895 non-null float64\n",
            "longitude                         48895 non-null float64\n",
            "room_type                         48895 non-null object\n",
            "price                             48895 non-null int64\n",
            "minimum_nights                    48895 non-null int64\n",
            "number_of_reviews                 48895 non-null int64\n",
            "last_review                       38843 non-null object\n",
            "reviews_per_month                 38843 non-null float64\n",
            "calculated_host_listings_count    48895 non-null int64\n",
            "availability_365                  48895 non-null int64\n",
            "dtypes: float64(3), int64(6), object(5)\n",
            "memory usage: 5.2+ MB\n"
          ],
          "name": "stdout"
        }
      ]
    },
    {
      "cell_type": "code",
      "metadata": {
        "id": "awzi4g8Pl0zR",
        "colab_type": "code",
        "outputId": "42b1feb1-1c22-4aef-b89f-21fd0999df4a",
        "cellView": "code",
        "colab": {
          "base_uri": "https://localhost:8080/",
          "height": 272
        }
      },
      "source": [
        "#checking null values\n",
        "NY.isnull().sum()\n",
        "#x = NY.isnull().sum().sort_values(ascending = False)[:5]\n",
        "#y = NY.isnull().sum().sort_values(ascending = False)[:5].index\n",
        "#plt.figure(figsize=(5,3))\n",
        "#sns.barplot(x,y, palette = \"GnBu_d\")"
      ],
      "execution_count": 0,
      "outputs": [
        {
          "output_type": "execute_result",
          "data": {
            "text/plain": [
              "name                                 16\n",
              "host_id                               0\n",
              "neighbourhood_group                   0\n",
              "neighbourhood                         0\n",
              "latitude                              0\n",
              "longitude                             0\n",
              "room_type                             0\n",
              "price                                 0\n",
              "minimum_nights                        0\n",
              "number_of_reviews                     0\n",
              "last_review                       10052\n",
              "reviews_per_month                 10052\n",
              "calculated_host_listings_count        0\n",
              "availability_365                      0\n",
              "dtype: int64"
            ]
          },
          "metadata": {
            "tags": []
          },
          "execution_count": 22
        }
      ]
    },
    {
      "cell_type": "code",
      "metadata": {
        "id": "objZamTLXEAl",
        "colab_type": "code",
        "outputId": "219c76ff-be13-4b24-bb99-039b67bed708",
        "colab": {
          "base_uri": "https://localhost:8080/",
          "height": 394
        }
      },
      "source": [
        "#let notice that if the number_of_reviews is 0 then there last review and reviews_per_month values is null\n",
        "NY1 = NY[NY.isna().any(axis = 1)]\n",
        "NY1.head()"
      ],
      "execution_count": 0,
      "outputs": [
        {
          "output_type": "execute_result",
          "data": {
            "text/html": [
              "<div>\n",
              "<style scoped>\n",
              "    .dataframe tbody tr th:only-of-type {\n",
              "        vertical-align: middle;\n",
              "    }\n",
              "\n",
              "    .dataframe tbody tr th {\n",
              "        vertical-align: top;\n",
              "    }\n",
              "\n",
              "    .dataframe thead th {\n",
              "        text-align: right;\n",
              "    }\n",
              "</style>\n",
              "<table border=\"1\" class=\"dataframe\">\n",
              "  <thead>\n",
              "    <tr style=\"text-align: right;\">\n",
              "      <th></th>\n",
              "      <th>name</th>\n",
              "      <th>host_id</th>\n",
              "      <th>neighbourhood_group</th>\n",
              "      <th>neighbourhood</th>\n",
              "      <th>latitude</th>\n",
              "      <th>longitude</th>\n",
              "      <th>room_type</th>\n",
              "      <th>price</th>\n",
              "      <th>minimum_nights</th>\n",
              "      <th>number_of_reviews</th>\n",
              "      <th>last_review</th>\n",
              "      <th>reviews_per_month</th>\n",
              "      <th>calculated_host_listings_count</th>\n",
              "      <th>availability_365</th>\n",
              "    </tr>\n",
              "  </thead>\n",
              "  <tbody>\n",
              "    <tr>\n",
              "      <th>2</th>\n",
              "      <td>THE VILLAGE OF HARLEM....NEW YORK !</td>\n",
              "      <td>4632</td>\n",
              "      <td>Manhattan</td>\n",
              "      <td>Harlem</td>\n",
              "      <td>40.80902</td>\n",
              "      <td>-73.94190</td>\n",
              "      <td>Private room</td>\n",
              "      <td>150</td>\n",
              "      <td>3</td>\n",
              "      <td>0</td>\n",
              "      <td>NaN</td>\n",
              "      <td>NaN</td>\n",
              "      <td>1</td>\n",
              "      <td>365</td>\n",
              "    </tr>\n",
              "    <tr>\n",
              "      <th>19</th>\n",
              "      <td>Huge 2 BR Upper East  Cental Park</td>\n",
              "      <td>17985</td>\n",
              "      <td>Manhattan</td>\n",
              "      <td>East Harlem</td>\n",
              "      <td>40.79685</td>\n",
              "      <td>-73.94872</td>\n",
              "      <td>Entire home/apt</td>\n",
              "      <td>190</td>\n",
              "      <td>7</td>\n",
              "      <td>0</td>\n",
              "      <td>NaN</td>\n",
              "      <td>NaN</td>\n",
              "      <td>2</td>\n",
              "      <td>249</td>\n",
              "    </tr>\n",
              "    <tr>\n",
              "      <th>26</th>\n",
              "      <td>Magnifique Suite au N de Manhattan - vue Cloitres</td>\n",
              "      <td>26394</td>\n",
              "      <td>Manhattan</td>\n",
              "      <td>Inwood</td>\n",
              "      <td>40.86754</td>\n",
              "      <td>-73.92639</td>\n",
              "      <td>Private room</td>\n",
              "      <td>80</td>\n",
              "      <td>4</td>\n",
              "      <td>0</td>\n",
              "      <td>NaN</td>\n",
              "      <td>NaN</td>\n",
              "      <td>1</td>\n",
              "      <td>0</td>\n",
              "    </tr>\n",
              "    <tr>\n",
              "      <th>36</th>\n",
              "      <td>Clean and Quiet in Brooklyn</td>\n",
              "      <td>7355</td>\n",
              "      <td>Brooklyn</td>\n",
              "      <td>Bedford-Stuyvesant</td>\n",
              "      <td>40.68876</td>\n",
              "      <td>-73.94312</td>\n",
              "      <td>Private room</td>\n",
              "      <td>35</td>\n",
              "      <td>60</td>\n",
              "      <td>0</td>\n",
              "      <td>NaN</td>\n",
              "      <td>NaN</td>\n",
              "      <td>1</td>\n",
              "      <td>365</td>\n",
              "    </tr>\n",
              "    <tr>\n",
              "      <th>38</th>\n",
              "      <td>Country space in the city</td>\n",
              "      <td>45445</td>\n",
              "      <td>Brooklyn</td>\n",
              "      <td>Flatbush</td>\n",
              "      <td>40.63702</td>\n",
              "      <td>-73.96327</td>\n",
              "      <td>Private room</td>\n",
              "      <td>150</td>\n",
              "      <td>1</td>\n",
              "      <td>0</td>\n",
              "      <td>NaN</td>\n",
              "      <td>NaN</td>\n",
              "      <td>1</td>\n",
              "      <td>365</td>\n",
              "    </tr>\n",
              "  </tbody>\n",
              "</table>\n",
              "</div>"
            ],
            "text/plain": [
              "                                                 name  ...  availability_365\n",
              "2                 THE VILLAGE OF HARLEM....NEW YORK !  ...               365\n",
              "19                  Huge 2 BR Upper East  Cental Park  ...               249\n",
              "26  Magnifique Suite au N de Manhattan - vue Cloitres  ...                 0\n",
              "36                        Clean and Quiet in Brooklyn  ...               365\n",
              "38                          Country space in the city  ...               365\n",
              "\n",
              "[5 rows x 14 columns]"
            ]
          },
          "metadata": {
            "tags": []
          },
          "execution_count": 23
        }
      ]
    },
    {
      "cell_type": "code",
      "metadata": {
        "id": "eH8MiwQgYFD3",
        "colab_type": "code",
        "outputId": "87fd89e3-7c86-4701-cc5d-51b0c9b65962",
        "colab": {
          "base_uri": "https://localhost:8080/",
          "height": 34
        }
      },
      "source": [
        "NY['reviews_per_month'].mean()"
      ],
      "execution_count": 0,
      "outputs": [
        {
          "output_type": "execute_result",
          "data": {
            "text/plain": [
              "1.3732214298586884"
            ]
          },
          "metadata": {
            "tags": []
          },
          "execution_count": 24
        }
      ]
    },
    {
      "cell_type": "code",
      "metadata": {
        "id": "MjQ1NVADbCoR",
        "colab_type": "code",
        "colab": {}
      },
      "source": [
        "NY['reviews_per_month'].fillna('0', inplace = True)\n",
        "NY.drop(['last_review'], axis = 1, inplace = True)\n",
        "NY['name'].fillna('Unknown', inplace = True)"
      ],
      "execution_count": 0,
      "outputs": []
    },
    {
      "cell_type": "code",
      "metadata": {
        "id": "HeX3N3vJcqAb",
        "colab_type": "code",
        "outputId": "c4cd5c92-deff-4fd0-81b0-4d5af3735e27",
        "colab": {
          "base_uri": "https://localhost:8080/",
          "height": 255
        }
      },
      "source": [
        "NY.isnull().sum()"
      ],
      "execution_count": 0,
      "outputs": [
        {
          "output_type": "execute_result",
          "data": {
            "text/plain": [
              "name                              0\n",
              "host_id                           0\n",
              "neighbourhood_group               0\n",
              "neighbourhood                     0\n",
              "latitude                          0\n",
              "longitude                         0\n",
              "room_type                         0\n",
              "price                             0\n",
              "minimum_nights                    0\n",
              "number_of_reviews                 0\n",
              "reviews_per_month                 0\n",
              "calculated_host_listings_count    0\n",
              "availability_365                  0\n",
              "dtype: int64"
            ]
          },
          "metadata": {
            "tags": []
          },
          "execution_count": 28
        }
      ]
    },
    {
      "cell_type": "code",
      "metadata": {
        "id": "rNt2LUrhTujB",
        "colab_type": "code",
        "outputId": "00642392-fac1-4e76-a572-0aec7e12d523",
        "colab": {
          "base_uri": "https://localhost:8080/",
          "height": 666
        }
      },
      "source": [
        "#price distribution\n",
        "print(NY['price'].describe())\n",
        "plt.figure(figsize=(9,8))\n",
        "plt.style.use('bmh')\n",
        "sns.distplot(NY['price'], color ='g', bins = 100, hist_kws = {'alpha':0.3})"
      ],
      "execution_count": 0,
      "outputs": [
        {
          "output_type": "stream",
          "text": [
            "count    48895.000000\n",
            "mean       152.720687\n",
            "std        240.154170\n",
            "min          0.000000\n",
            "25%         69.000000\n",
            "50%        106.000000\n",
            "75%        175.000000\n",
            "max      10000.000000\n",
            "Name: price, dtype: float64\n"
          ],
          "name": "stdout"
        },
        {
          "output_type": "execute_result",
          "data": {
            "text/plain": [
              "<matplotlib.axes._subplots.AxesSubplot at 0x7f802b77f160>"
            ]
          },
          "metadata": {
            "tags": []
          },
          "execution_count": 31
        },
        {
          "output_type": "display_data",
          "data": {
            "image/png": "[encoded data removed]",
            "text/plain": [
              "<Figure size 648x576 with 1 Axes>"
            ]
          },
          "metadata": {
            "tags": []
          }
        }
      ]
    },
    {
      "cell_type": "code",
      "metadata": {
        "id": "_nkYkR0Rtw7_",
        "colab_type": "code",
        "outputId": "663a24b8-a2fe-4a14-9c7c-7043616b3595",
        "colab": {
          "base_uri": "https://localhost:8080/",
          "height": 719
        }
      },
      "source": [
        "NY.head(10)"
      ],
      "execution_count": 0,
      "outputs": [
        {
          "output_type": "execute_result",
          "data": {
            "text/html": [
              "<div>\n",
              "<style scoped>\n",
              "    .dataframe tbody tr th:only-of-type {\n",
              "        vertical-align: middle;\n",
              "    }\n",
              "\n",
              "    .dataframe tbody tr th {\n",
              "        vertical-align: top;\n",
              "    }\n",
              "\n",
              "    .dataframe thead th {\n",
              "        text-align: right;\n",
              "    }\n",
              "</style>\n",
              "<table border=\"1\" class=\"dataframe\">\n",
              "  <thead>\n",
              "    <tr style=\"text-align: right;\">\n",
              "      <th></th>\n",
              "      <th>name</th>\n",
              "      <th>host_id</th>\n",
              "      <th>neighbourhood_group</th>\n",
              "      <th>neighbourhood</th>\n",
              "      <th>latitude</th>\n",
              "      <th>longitude</th>\n",
              "      <th>room_type</th>\n",
              "      <th>price</th>\n",
              "      <th>minimum_nights</th>\n",
              "      <th>number_of_reviews</th>\n",
              "      <th>reviews_per_month</th>\n",
              "      <th>calculated_host_listings_count</th>\n",
              "      <th>availability_365</th>\n",
              "    </tr>\n",
              "  </thead>\n",
              "  <tbody>\n",
              "    <tr>\n",
              "      <th>0</th>\n",
              "      <td>Clean &amp; quiet apt home by the park</td>\n",
              "      <td>2787</td>\n",
              "      <td>Brooklyn</td>\n",
              "      <td>Kensington</td>\n",
              "      <td>40.64749</td>\n",
              "      <td>-73.97237</td>\n",
              "      <td>Private room</td>\n",
              "      <td>149</td>\n",
              "      <td>1</td>\n",
              "      <td>9</td>\n",
              "      <td>0.21</td>\n",
              "      <td>6</td>\n",
              "      <td>365</td>\n",
              "    </tr>\n",
              "    <tr>\n",
              "      <th>1</th>\n",
              "      <td>Skylit Midtown Castle</td>\n",
              "      <td>2845</td>\n",
              "      <td>Manhattan</td>\n",
              "      <td>Midtown</td>\n",
              "      <td>40.75362</td>\n",
              "      <td>-73.98377</td>\n",
              "      <td>Entire home/apt</td>\n",
              "      <td>225</td>\n",
              "      <td>1</td>\n",
              "      <td>45</td>\n",
              "      <td>0.38</td>\n",
              "      <td>2</td>\n",
              "      <td>355</td>\n",
              "    </tr>\n",
              "    <tr>\n",
              "      <th>2</th>\n",
              "      <td>THE VILLAGE OF HARLEM....NEW YORK !</td>\n",
              "      <td>4632</td>\n",
              "      <td>Manhattan</td>\n",
              "      <td>Harlem</td>\n",
              "      <td>40.80902</td>\n",
              "      <td>-73.94190</td>\n",
              "      <td>Private room</td>\n",
              "      <td>150</td>\n",
              "      <td>3</td>\n",
              "      <td>0</td>\n",
              "      <td>0</td>\n",
              "      <td>1</td>\n",
              "      <td>365</td>\n",
              "    </tr>\n",
              "    <tr>\n",
              "      <th>3</th>\n",
              "      <td>Cozy Entire Floor of Brownstone</td>\n",
              "      <td>4869</td>\n",
              "      <td>Brooklyn</td>\n",
              "      <td>Clinton Hill</td>\n",
              "      <td>40.68514</td>\n",
              "      <td>-73.95976</td>\n",
              "      <td>Entire home/apt</td>\n",
              "      <td>89</td>\n",
              "      <td>1</td>\n",
              "      <td>270</td>\n",
              "      <td>4.64</td>\n",
              "      <td>1</td>\n",
              "      <td>194</td>\n",
              "    </tr>\n",
              "    <tr>\n",
              "      <th>4</th>\n",
              "      <td>Entire Apt: Spacious Studio/Loft by central park</td>\n",
              "      <td>7192</td>\n",
              "      <td>Manhattan</td>\n",
              "      <td>East Harlem</td>\n",
              "      <td>40.79851</td>\n",
              "      <td>-73.94399</td>\n",
              "      <td>Entire home/apt</td>\n",
              "      <td>80</td>\n",
              "      <td>10</td>\n",
              "      <td>9</td>\n",
              "      <td>0.1</td>\n",
              "      <td>1</td>\n",
              "      <td>0</td>\n",
              "    </tr>\n",
              "    <tr>\n",
              "      <th>5</th>\n",
              "      <td>Large Cozy 1 BR Apartment In Midtown East</td>\n",
              "      <td>7322</td>\n",
              "      <td>Manhattan</td>\n",
              "      <td>Murray Hill</td>\n",
              "      <td>40.74767</td>\n",
              "      <td>-73.97500</td>\n",
              "      <td>Entire home/apt</td>\n",
              "      <td>200</td>\n",
              "      <td>3</td>\n",
              "      <td>74</td>\n",
              "      <td>0.59</td>\n",
              "      <td>1</td>\n",
              "      <td>129</td>\n",
              "    </tr>\n",
              "    <tr>\n",
              "      <th>6</th>\n",
              "      <td>BlissArtsSpace!</td>\n",
              "      <td>7356</td>\n",
              "      <td>Brooklyn</td>\n",
              "      <td>Bedford-Stuyvesant</td>\n",
              "      <td>40.68688</td>\n",
              "      <td>-73.95596</td>\n",
              "      <td>Private room</td>\n",
              "      <td>60</td>\n",
              "      <td>45</td>\n",
              "      <td>49</td>\n",
              "      <td>0.4</td>\n",
              "      <td>1</td>\n",
              "      <td>0</td>\n",
              "    </tr>\n",
              "    <tr>\n",
              "      <th>7</th>\n",
              "      <td>Large Furnished Room Near B'way</td>\n",
              "      <td>8967</td>\n",
              "      <td>Manhattan</td>\n",
              "      <td>Hell's Kitchen</td>\n",
              "      <td>40.76489</td>\n",
              "      <td>-73.98493</td>\n",
              "      <td>Private room</td>\n",
              "      <td>79</td>\n",
              "      <td>2</td>\n",
              "      <td>430</td>\n",
              "      <td>3.47</td>\n",
              "      <td>1</td>\n",
              "      <td>220</td>\n",
              "    </tr>\n",
              "    <tr>\n",
              "      <th>8</th>\n",
              "      <td>Cozy Clean Guest Room - Family Apt</td>\n",
              "      <td>7490</td>\n",
              "      <td>Manhattan</td>\n",
              "      <td>Upper West Side</td>\n",
              "      <td>40.80178</td>\n",
              "      <td>-73.96723</td>\n",
              "      <td>Private room</td>\n",
              "      <td>79</td>\n",
              "      <td>2</td>\n",
              "      <td>118</td>\n",
              "      <td>0.99</td>\n",
              "      <td>1</td>\n",
              "      <td>0</td>\n",
              "    </tr>\n",
              "    <tr>\n",
              "      <th>9</th>\n",
              "      <td>Cute &amp; Cozy Lower East Side 1 bdrm</td>\n",
              "      <td>7549</td>\n",
              "      <td>Manhattan</td>\n",
              "      <td>Chinatown</td>\n",
              "      <td>40.71344</td>\n",
              "      <td>-73.99037</td>\n",
              "      <td>Entire home/apt</td>\n",
              "      <td>150</td>\n",
              "      <td>1</td>\n",
              "      <td>160</td>\n",
              "      <td>1.33</td>\n",
              "      <td>4</td>\n",
              "      <td>188</td>\n",
              "    </tr>\n",
              "  </tbody>\n",
              "</table>\n",
              "</div>"
            ],
            "text/plain": [
              "                                               name  ...  availability_365\n",
              "0                Clean & quiet apt home by the park  ...               365\n",
              "1                             Skylit Midtown Castle  ...               355\n",
              "2               THE VILLAGE OF HARLEM....NEW YORK !  ...               365\n",
              "3                   Cozy Entire Floor of Brownstone  ...               194\n",
              "4  Entire Apt: Spacious Studio/Loft by central park  ...                 0\n",
              "5         Large Cozy 1 BR Apartment In Midtown East  ...               129\n",
              "6                                   BlissArtsSpace!  ...                 0\n",
              "7                  Large Furnished Room Near B'way   ...               220\n",
              "8                Cozy Clean Guest Room - Family Apt  ...                 0\n",
              "9                Cute & Cozy Lower East Side 1 bdrm  ...               188\n",
              "\n",
              "[10 rows x 13 columns]"
            ]
          },
          "metadata": {
            "tags": []
          },
          "execution_count": 32
        }
      ]
    },
    {
      "cell_type": "code",
      "metadata": {
        "id": "Gp8ZRSp3t-q2",
        "colab_type": "code",
        "outputId": "ed03635f-b43c-4def-ad30-f3491bf46806",
        "colab": {
          "base_uri": "https://localhost:8080/",
          "height": 51
        }
      },
      "source": [
        "NY['neighbourhood_group'].unique()"
      ],
      "execution_count": 0,
      "outputs": [
        {
          "output_type": "execute_result",
          "data": {
            "text/plain": [
              "array(['Brooklyn', 'Manhattan', 'Queens', 'Staten Island', 'Bronx'],\n",
              "      dtype=object)"
            ]
          },
          "metadata": {
            "tags": []
          },
          "execution_count": 41
        }
      ]
    },
    {
      "cell_type": "code",
      "metadata": {
        "id": "ZoHqn56j1-3c",
        "colab_type": "code",
        "outputId": "dc98cd0a-0672-46f3-adfd-7c7b0c6c8511",
        "colab": {
          "base_uri": "https://localhost:8080/",
          "height": 986
        }
      },
      "source": [
        "NY.neighbourhood.unique()"
      ],
      "execution_count": 0,
      "outputs": [
        {
          "output_type": "execute_result",
          "data": {
            "text/plain": [
              "array(['Kensington', 'Midtown', 'Harlem', 'Clinton Hill', 'East Harlem',\n",
              "       'Murray Hill', 'Bedford-Stuyvesant', \"Hell's Kitchen\",\n",
              "       'Upper West Side', 'Chinatown', 'South Slope', 'West Village',\n",
              "       'Williamsburg', 'Fort Greene', 'Chelsea', 'Crown Heights',\n",
              "       'Park Slope', 'Windsor Terrace', 'Inwood', 'East Village',\n",
              "       'Greenpoint', 'Bushwick', 'Flatbush', 'Lower East Side',\n",
              "       'Prospect-Lefferts Gardens', 'Long Island City', 'Kips Bay',\n",
              "       'SoHo', 'Upper East Side', 'Prospect Heights',\n",
              "       'Washington Heights', 'Woodside', 'Brooklyn Heights',\n",
              "       'Carroll Gardens', 'Gowanus', 'Flatlands', 'Cobble Hill',\n",
              "       'Flushing', 'Boerum Hill', 'Sunnyside', 'DUMBO', 'St. George',\n",
              "       'Highbridge', 'Financial District', 'Ridgewood',\n",
              "       'Morningside Heights', 'Jamaica', 'Middle Village', 'NoHo',\n",
              "       'Ditmars Steinway', 'Flatiron District', 'Roosevelt Island',\n",
              "       'Greenwich Village', 'Little Italy', 'East Flatbush',\n",
              "       'Tompkinsville', 'Astoria', 'Clason Point', 'Eastchester',\n",
              "       'Kingsbridge', 'Two Bridges', 'Queens Village', 'Rockaway Beach',\n",
              "       'Forest Hills', 'Nolita', 'Woodlawn', 'University Heights',\n",
              "       'Gravesend', 'Gramercy', 'Allerton', 'East New York',\n",
              "       'Theater District', 'Concourse Village', 'Sheepshead Bay',\n",
              "       'Emerson Hill', 'Fort Hamilton', 'Bensonhurst', 'Tribeca',\n",
              "       'Shore Acres', 'Sunset Park', 'Concourse', 'Elmhurst',\n",
              "       'Brighton Beach', 'Jackson Heights', 'Cypress Hills', 'St. Albans',\n",
              "       'Arrochar', 'Rego Park', 'Wakefield', 'Clifton', 'Bay Ridge',\n",
              "       'Graniteville', 'Spuyten Duyvil', 'Stapleton', 'Briarwood',\n",
              "       'Ozone Park', 'Columbia St', 'Vinegar Hill', 'Mott Haven',\n",
              "       'Longwood', 'Canarsie', 'Battery Park City', 'Civic Center',\n",
              "       'East Elmhurst', 'New Springville', 'Morris Heights', 'Arverne',\n",
              "       'Cambria Heights', 'Tottenville', 'Mariners Harbor', 'Concord',\n",
              "       'Borough Park', 'Bayside', 'Downtown Brooklyn', 'Port Morris',\n",
              "       'Fieldston', 'Kew Gardens', 'Midwood', 'College Point',\n",
              "       'Mount Eden', 'City Island', 'Glendale', 'Port Richmond',\n",
              "       'Red Hook', 'Richmond Hill', 'Bellerose', 'Maspeth',\n",
              "       'Williamsbridge', 'Soundview', 'Woodhaven', 'Woodrow',\n",
              "       'Co-op City', 'Stuyvesant Town', 'Parkchester', 'North Riverdale',\n",
              "       'Dyker Heights', 'Bronxdale', 'Sea Gate', 'Riverdale',\n",
              "       'Kew Gardens Hills', 'Bay Terrace', 'Norwood', 'Claremont Village',\n",
              "       'Whitestone', 'Fordham', 'Bayswater', 'Navy Yard', 'Brownsville',\n",
              "       'Eltingville', 'Fresh Meadows', 'Mount Hope', 'Lighthouse Hill',\n",
              "       'Springfield Gardens', 'Howard Beach', 'Belle Harbor',\n",
              "       'Jamaica Estates', 'Van Nest', 'Morris Park', 'West Brighton',\n",
              "       'Far Rockaway', 'South Ozone Park', 'Tremont', 'Corona',\n",
              "       'Great Kills', 'Manhattan Beach', 'Marble Hill', 'Dongan Hills',\n",
              "       'Castleton Corners', 'East Morrisania', 'Hunts Point', 'Neponsit',\n",
              "       'Pelham Bay', 'Randall Manor', 'Throgs Neck', 'Todt Hill',\n",
              "       'West Farms', 'Silver Lake', 'Morrisania', 'Laurelton',\n",
              "       'Grymes Hill', 'Holliswood', 'Pelham Gardens', 'Belmont',\n",
              "       'Rosedale', 'Edgemere', 'New Brighton', 'Midland Beach',\n",
              "       'Baychester', 'Melrose', 'Bergen Beach', 'Richmondtown',\n",
              "       'Howland Hook', 'Schuylerville', 'Coney Island', 'New Dorp Beach',\n",
              "       \"Prince's Bay\", 'South Beach', 'Bath Beach', 'Jamaica Hills',\n",
              "       'Oakwood', 'Castle Hill', 'Hollis', 'Douglaston', 'Huguenot',\n",
              "       'Olinville', 'Edenwald', 'Grant City', 'Westerleigh',\n",
              "       'Bay Terrace, Staten Island', 'Westchester Square', 'Little Neck',\n",
              "       'Fort Wadsworth', 'Rosebank', 'Unionport', 'Mill Basin',\n",
              "       'Arden Heights', \"Bull's Head\", 'New Dorp', 'Rossville',\n",
              "       'Breezy Point', 'Willowbrook'], dtype=object)"
            ]
          },
          "metadata": {
            "tags": []
          },
          "execution_count": 43
        }
      ]
    },
    {
      "cell_type": "code",
      "metadata": {
        "id": "6T2_69Pk2PrD",
        "colab_type": "code",
        "outputId": "f23a6a01-9b48-4baa-b447-30c9af16c735",
        "colab": {
          "base_uri": "https://localhost:8080/",
          "height": 34
        }
      },
      "source": [
        "#types = NY['room_type'].unique()\n",
        "NY['room_type'].loc[NY['room_type']== 'Private room'].count()\n",
        "room_shares= []\n",
        "for type in types:\n",
        "    type_count = int(NY['room_type'].loc[NY['room_type']== type].count())\n",
        "    share = (type_count/len(NY))*100\n",
        "    room_shares.append(share)\n",
        "print(room_shares)"
      ],
      "execution_count": 0,
      "outputs": [
        {
          "output_type": "stream",
          "text": [
            "[45.661110543000305, 51.96645873811229, 2.372430718887412]\n"
          ],
          "name": "stdout"
        }
      ]
    },
    {
      "cell_type": "code",
      "metadata": {
        "id": "FfUlHgwV2l_Z",
        "colab_type": "code",
        "outputId": "05de26ac-3860-4f5b-9de4-b50e7f3157c9",
        "colab": {
          "base_uri": "https://localhost:8080/",
          "height": 297
        }
      },
      "source": [
        "#labels = ['Private room', 'Entire home/apt', 'Shared room']\n",
        "labels2 = NY['room_type'].unique()\n",
        "shares = room_shares\n",
        "explode = (0.1, 0, 0) \n",
        "colors = ['yellowgreen', 'gold', 'lightskyblue', 'lightcoral']\n",
        "texts = plt.pie(shares, explode = explode, colors=colors, labels = labels2, shadow=True, autopct='%1.1f%%', startangle=90)\n",
        "plt.axis('equal')\n",
        "plt.tight_layout()\n",
        "plt.show()"
      ],
      "execution_count": 0,
      "outputs": [
        {
          "output_type": "display_data",
          "data": {
            "image/png": "[encoded data removed]",
            "text/plain": [
              "<Figure size 432x288 with 1 Axes>"
            ]
          },
          "metadata": {
            "tags": []
          }
        }
      ]
    },
    {
      "cell_type": "code",
      "metadata": {
        "id": "HgvHIh9e6Ud1",
        "colab_type": "code",
        "colab": {}
      },
      "source": [
        ""
      ],
      "execution_count": 0,
      "outputs": []
    },
    {
      "cell_type": "code",
      "metadata": {
        "id": "1_s1cS4R8S7s",
        "colab_type": "code",
        "colab": {}
      },
      "source": [
        ""
      ],
      "execution_count": 0,
      "outputs": []
    }
  ]
}